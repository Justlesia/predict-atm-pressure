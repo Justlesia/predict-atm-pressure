{
 "cells": [
  {
   "cell_type": "markdown",
   "metadata": {
    "pycharm": {
     "name": "#%% md\n"
    },
    "slideshow": {
     "slide_type": "-"
    }
   },
   "source": [
    "# Atmosfer pressure. Construction of a regression model."
   ]
  },
  {
   "cell_type": "markdown",
   "metadata": {
    "pycharm": {
     "name": "#%% md\n"
    }
   },
   "source": [
    "<a name=\"1common.\"></a>\n",
    "## <a name=\"0.0\"></a>Contents:\n",
    "* [Library loading and self-written functions](#0.)\n",
    "* [Data loading](#1.)\n",
    "* [Part 1.Research data analysis](#8.)\n",
    "* [Electrode data](#2.)\n",
    "* [Data on the supply of bulk materials (volume, time of submission)](#3.)\n",
    "* [Data on gas purging of the alloy](#4.)\n",
    "* [Data on wire materials (volume, time)] (#5.)\n",
    "* [Temperature measurement results](#6.)\n",
    "* [List of clarifying questions and an approximate plan for solving the problem.](#7.)\n",
    "* [Part 2. Solution Code](#9.)\n",
    "* [Data Cleaning](#10.)\n",
    "* [Preparing data for the model](#11.)\n",
    "* [Building the model](#12.)\n",
    "* [Testing the model](#13.)\n",
    "* [Checking the model for adequacy](#14.)\n",
    "* [Output](#15.)"
   ]
  },
  {
   "cell_type": "markdown",
   "metadata": {
    "pycharm": {
     "name": "#%% md\n"
    }
   },
   "source": [
    "### Description of data\n",
    "\n",
    "The system of automatic state ambient air monitoring stations in Lithuania consists of 14 urban air quality monitoring stations operating in Vilnius, Kaunas, Klaipėda, Šiauliai, Panevėžys, Jonava, Kėdainiai, Naujoji Akmenė and Mažeikiai and 3 integrated monitoring stations operating in Aukštaitija, Žemaitija and Dzūkija National Parks.\n",
    "\n",
    "Concentrations of the following pollutants are measured at automatic air quality monitoring stations: particulate matter PM10, fine particulate matter PM2.5, nitrogen oxides (NO2, NOx, NO), sulfur dioxide (SO2), carbon monoxide (CO), ozone (O3), benzene, mercury.\n",
    "The tests and measurements shall be carried out in accordance with the requirements of Directives 2004/107/EC of the European Parliament and of the Council relating to arsenic, cadmium, mercury, nickel and polycyclic aromatic hydrocarbons in ambient air and 2008/50/EC on ambient air quality and cleaner air for Europe.\n",
    "\n",
    "\n",
    "The data consists of files obtained from different sources:\n",
    "\n",
    "Averages.csv\n",
    "Quantity.csv\n",
    "QuantityUnits.csv\n",
    "Station.csv\n",
    "\n",
    "https://data.gov.lt/datasets/500/"
   ]
  },
  {
   "cell_type": "markdown",
   "metadata": {
    "pycharm": {
     "name": "#%% md\n"
    }
   },
   "source": [
    "## Подгрузка библиотек и самописные функции\n",
    "<a name=\"0.\"></a>\n",
    "[<font size=\"2\">(к содержанию)</font>](#1common.)"
   ]
  },
  {
   "cell_type": "code",
   "execution_count": 180,
   "metadata": {
    "pycharm": {
     "is_executing": true,
     "name": "#%%\n"
    }
   },
   "outputs": [],
   "source": [
    "import pandas as pd\n",
    "import numpy as np\n",
    "import time\n",
    "\n",
    "import warnings\n",
    "import seaborn as sns\n",
    "import matplotlib.pyplot as plt\n",
    "from termcolor import colored\n",
    "\n",
    "import plotly.graph_objects as go\n",
    "import plotly.figure_factory as ff\n",
    "import plotly.express as px\n",
    "from plotly.subplots import make_subplots\n",
    "\n",
    "from sklearn.model_selection import GridSearchCV\n",
    "from sklearn.utils import shuffle\n",
    "from sklearn.model_selection import train_test_split\n",
    "from sklearn.model_selection import KFold\n",
    "from sklearn.metrics import mean_absolute_error\n",
    "from sklearn.exceptions import NotFittedError\n",
    "\n",
    "from sklearn.dummy import DummyRegressor\n",
    "\n",
    "from lightgbm import LGBMRegressor\n",
    "from sklearn.experimental import enable_hist_gradient_boosting\n",
    "from sklearn.ensemble import HistGradientBoostingRegressor\n",
    "from sklearn.ensemble import GradientBoostingRegressor\n",
    "from sklearn.ensemble import AdaBoostRegressor\n",
    "#from catboost import CatBoostRegressor\n",
    "from xgboost.sklearn import XGBRegressor\n",
    "\n",
    "warnings.simplefilter(action='ignore', category=FutureWarning)\n",
    "#from pandas.core.common import SettingWithCopyWarning\n",
    "\n",
    "%config InlineBackend.figure_format='retina'\n",
    "#arnings.simplefilter(action=\"ignore\", category=SettingWithCopyWarning)\n",
    "#warnings.simplefilter(action=\"ignore\", category=UserWarning)"
   ]
  },
  {
   "cell_type": "code",
   "execution_count": 181,
   "metadata": {
    "pycharm": {
     "name": "#%%\n"
    }
   },
   "outputs": [],
   "source": [
    "from sklearn.preprocessing import MinMaxScaler\n",
    "from sklearn.feature_extraction import DictVectorizer\n",
    "from numpy import asarray\n",
    "\n",
    "from sklearn.model_selection import TimeSeriesSplit\n",
    "from sklearn.ensemble import RandomForestRegressor\n",
    "from sklearn.linear_model import LinearRegression"
   ]
  },
  {
   "cell_type": "code",
   "execution_count": 182,
   "metadata": {
    "pycharm": {
     "name": "#%%\n"
    }
   },
   "outputs": [],
   "source": [
    "def bold(): \n",
    "    return \"\\033[1m\"\n",
    "\n",
    "def bold_end(): \n",
    "    return \"\\033[0m\"\n",
    "\n",
    "#Ставим формат для нумериков\n",
    "pd.options.display.float_format = '{: >10.2f}'.format"
   ]
  },
  {
   "cell_type": "code",
   "execution_count": 183,
   "metadata": {
    "pycharm": {
     "name": "#%%\n"
    }
   },
   "outputs": [],
   "source": [
    "#**Function print_basic_info, to display information about the array and its variables.**\n",
    "\n",
    "#* base - database name\n",
    "#* info - 1: output information about the array, other: no output\n",
    "#* describe - 1: output description of array variables, other: no output\n",
    "#* duplicate - 1: display the number of complete duplicates\n",
    "#* head - n: output example base (output n - lines), n < 1: no output\n",
    "\n",
    "def print_basic_info(base, info, describe, duplicat, head):\n",
    "    if info == 1:\n",
    "        print(\"\\n\", bold(), colored('info','green'), bold_end(), \"\\n\")\n",
    "        print( base.info())  \n",
    "    if head >= 1:\n",
    "        print(\"\\n\", bold(),colored('head','green'),bold_end())\n",
    "        display(base.head(head))\n",
    "    if describe == 1:\n",
    "        print(\"\\n\", bold(),colored('describe','green'),bold_end(),\"\\n\")\n",
    "        for i in base.columns:\n",
    "            print(\"\\n\", bold(), colored(i,'blue'),bold_end(),\"\\n\", base[i].describe())\n",
    "    if duplicat == 1:\n",
    "        print(\"\\n\", bold(),colored('duplicated','green'),bold_end(),\"\\n\")\n",
    "        print(base[base.duplicated() == True][base.columns[0]].count())"
   ]
  },
  {
   "cell_type": "markdown",
   "metadata": {
    "pycharm": {
     "name": "#%% md\n"
    }
   },
   "source": [
    "## Loading data\n",
    "<a name=\"1.\"></a>\n",
    "[<font size=\"2\">(to contents)</font>](#1common.)"
   ]
  },
  {
   "cell_type": "code",
   "execution_count": 184,
   "metadata": {
    "pycharm": {
     "name": "#%%\n"
    }
   },
   "outputs": [],
   "source": [
    "data_averages = pd.read_csv('datasets/Averages.csv', sep=',',decimal='.')\n",
    "data_quantity = pd.read_csv('datasets/Quantity.csv', sep=',',decimal='.')\n",
    "data_quantity_units = pd.read_csv('datasets/QuantityUnits.csv', sep=',',decimal='.')\n",
    "data_station = pd.read_csv('datasets/Station.csv', sep=',',decimal='.')"
   ]
  },
  {
   "cell_type": "markdown",
   "metadata": {
    "pycharm": {
     "name": "#%% md\n"
    }
   },
   "source": [
    "<!-- # data_arc = pd.read_csv('/datasets/final_steel/data_arc.csv')\n",
    "# data_bulk = pd.read_csv('/datasets/final_steel/data_bulk.csv')\n",
    "# data_bulk_time = pd.read_csv('/datasets/final_steel/data_bulk_time.csv')\n",
    "# data_gas = pd.read_csv('/datasets/final_steel/data_gas.csv')\n",
    "# data_temp = pd.read_csv('/datasets/final_steel/data_temp.csv')\n",
    "# data_wire = pd.read_csv('/datasets/final_steel/data_wire.csv')\n",
    "# data_wire_time = pd.read_csv('/datasets/final_steel/data_wire_time.csv') -->"
   ]
  },
  {
   "cell_type": "markdown",
   "metadata": {
    "pycharm": {
     "name": "#%% md\n"
    }
   },
   "source": [
    "## Исследовательский анализ данных\n",
    "<a name=\"8.\"></a>\n",
    "[<font size=\"2\">(к содержанию)</font>](#1common.)"
   ]
  },
  {
   "cell_type": "markdown",
   "metadata": {
    "pycharm": {
     "name": "#%% md\n"
    }
   },
   "source": [
    "### Данные об изменениях\n",
    "<a name=\"2.\"></a>\n",
    "[<font size=\"2\">(к содержанию)</font>](#1common.)"
   ]
  },
  {
   "cell_type": "code",
   "execution_count": 185,
   "metadata": {
    "pycharm": {
     "name": "#%%\n"
    }
   },
   "outputs": [
    {
     "name": "stdout",
     "output_type": "stream",
     "text": [
      "\n",
      " \u001B[1m \u001B[32minfo\u001B[0m \u001B[0m \n",
      "\n",
      "<class 'pandas.core.frame.DataFrame'>\n",
      "RangeIndex: 2627777 entries, 0 to 2627776\n",
      "Data columns (total 9 columns):\n",
      " #   Column        Dtype  \n",
      "---  ------        -----  \n",
      " 0   _type         object \n",
      " 1   _id           object \n",
      " 2   _revision     object \n",
      " 3   id            int64  \n",
      " 4   stat_num._id  object \n",
      " 5   ldatetime     object \n",
      " 6   code_combi    int64  \n",
      " 7   lvalue        float64\n",
      " 8   atribut       int64  \n",
      "dtypes: float64(1), int64(3), object(5)\n",
      "memory usage: 180.4+ MB\n",
      "None\n",
      "\n",
      " \u001B[1m \u001B[32mhead\u001B[0m \u001B[0m\n"
     ]
    },
    {
     "data": {
      "text/html": [
       "<div>\n",
       "<style scoped>\n",
       "    .dataframe tbody tr th:only-of-type {\n",
       "        vertical-align: middle;\n",
       "    }\n",
       "\n",
       "    .dataframe tbody tr th {\n",
       "        vertical-align: top;\n",
       "    }\n",
       "\n",
       "    .dataframe thead th {\n",
       "        text-align: right;\n",
       "    }\n",
       "</style>\n",
       "<table border=\"1\" class=\"dataframe\">\n",
       "  <thead>\n",
       "    <tr style=\"text-align: right;\">\n",
       "      <th></th>\n",
       "      <th>_type</th>\n",
       "      <th>_id</th>\n",
       "      <th>_revision</th>\n",
       "      <th>id</th>\n",
       "      <th>stat_num._id</th>\n",
       "      <th>ldatetime</th>\n",
       "      <th>code_combi</th>\n",
       "      <th>lvalue</th>\n",
       "      <th>atribut</th>\n",
       "    </tr>\n",
       "  </thead>\n",
       "  <tbody>\n",
       "    <tr>\n",
       "      <th>0</th>\n",
       "      <td>datasets/gov/aaa/oro_stociu_matavimai/Averages</td>\n",
       "      <td>ffc91117-d74c-411b-b579-6006f6343124</td>\n",
       "      <td>fe9212e8-524f-4771-884c-f37c4c520ce1</td>\n",
       "      <td>100013482</td>\n",
       "      <td>f15078a3-c648-4ef2-93eb-9d2e473fffba</td>\n",
       "      <td>2012-12-11T13:00:00</td>\n",
       "      <td>401</td>\n",
       "      <td>8.23</td>\n",
       "      <td>1</td>\n",
       "    </tr>\n",
       "    <tr>\n",
       "      <th>1</th>\n",
       "      <td>datasets/gov/aaa/oro_stociu_matavimai/Averages</td>\n",
       "      <td>7c1a9813-4831-46a5-ab6c-6dd750ecb0a3</td>\n",
       "      <td>4d74d0ae-0cf6-40bf-bee1-f2afaa5ef962</td>\n",
       "      <td>100013570</td>\n",
       "      <td>f15078a3-c648-4ef2-93eb-9d2e473fffba</td>\n",
       "      <td>2012-12-11T20:00:00</td>\n",
       "      <td>906</td>\n",
       "      <td>993.06</td>\n",
       "      <td>1</td>\n",
       "    </tr>\n",
       "    <tr>\n",
       "      <th>2</th>\n",
       "      <td>datasets/gov/aaa/oro_stociu_matavimai/Averages</td>\n",
       "      <td>8f325751-c286-44f5-a27a-e16c72b0c6fc</td>\n",
       "      <td>cb99870b-f52d-487c-ac17-32b3fbd95381</td>\n",
       "      <td>100171317</td>\n",
       "      <td>6bd59444-5437-447d-bc2d-c32ef5b0a964</td>\n",
       "      <td>2012-12-12T08:00:00</td>\n",
       "      <td>5301</td>\n",
       "      <td>-0.55</td>\n",
       "      <td>1</td>\n",
       "    </tr>\n",
       "    <tr>\n",
       "      <th>3</th>\n",
       "      <td>datasets/gov/aaa/oro_stociu_matavimai/Averages</td>\n",
       "      <td>0fa048e3-5004-49c8-a3f9-ffdffc57b934</td>\n",
       "      <td>e7eca78b-c7e5-4f5c-ad8f-24db108ad0c7</td>\n",
       "      <td>100185170</td>\n",
       "      <td>f15078a3-c648-4ef2-93eb-9d2e473fffba</td>\n",
       "      <td>2012-12-12T08:00:00</td>\n",
       "      <td>906</td>\n",
       "      <td>995.97</td>\n",
       "      <td>1</td>\n",
       "    </tr>\n",
       "    <tr>\n",
       "      <th>4</th>\n",
       "      <td>datasets/gov/aaa/oro_stociu_matavimai/Averages</td>\n",
       "      <td>aa414bf9-0821-4061-910b-19d4bb395009</td>\n",
       "      <td>4e1d3552-e06a-4b61-b758-15d123df2091</td>\n",
       "      <td>100353357</td>\n",
       "      <td>6bd59444-5437-447d-bc2d-c32ef5b0a964</td>\n",
       "      <td>2012-12-13T02:00:00</td>\n",
       "      <td>7001</td>\n",
       "      <td>0.00</td>\n",
       "      <td>1</td>\n",
       "    </tr>\n",
       "  </tbody>\n",
       "</table>\n",
       "</div>"
      ],
      "text/plain": [
       "                                            _type  \\\n",
       "0  datasets/gov/aaa/oro_stociu_matavimai/Averages   \n",
       "1  datasets/gov/aaa/oro_stociu_matavimai/Averages   \n",
       "2  datasets/gov/aaa/oro_stociu_matavimai/Averages   \n",
       "3  datasets/gov/aaa/oro_stociu_matavimai/Averages   \n",
       "4  datasets/gov/aaa/oro_stociu_matavimai/Averages   \n",
       "\n",
       "                                    _id                             _revision  \\\n",
       "0  ffc91117-d74c-411b-b579-6006f6343124  fe9212e8-524f-4771-884c-f37c4c520ce1   \n",
       "1  7c1a9813-4831-46a5-ab6c-6dd750ecb0a3  4d74d0ae-0cf6-40bf-bee1-f2afaa5ef962   \n",
       "2  8f325751-c286-44f5-a27a-e16c72b0c6fc  cb99870b-f52d-487c-ac17-32b3fbd95381   \n",
       "3  0fa048e3-5004-49c8-a3f9-ffdffc57b934  e7eca78b-c7e5-4f5c-ad8f-24db108ad0c7   \n",
       "4  aa414bf9-0821-4061-910b-19d4bb395009  4e1d3552-e06a-4b61-b758-15d123df2091   \n",
       "\n",
       "          id                          stat_num._id            ldatetime  \\\n",
       "0  100013482  f15078a3-c648-4ef2-93eb-9d2e473fffba  2012-12-11T13:00:00   \n",
       "1  100013570  f15078a3-c648-4ef2-93eb-9d2e473fffba  2012-12-11T20:00:00   \n",
       "2  100171317  6bd59444-5437-447d-bc2d-c32ef5b0a964  2012-12-12T08:00:00   \n",
       "3  100185170  f15078a3-c648-4ef2-93eb-9d2e473fffba  2012-12-12T08:00:00   \n",
       "4  100353357  6bd59444-5437-447d-bc2d-c32ef5b0a964  2012-12-13T02:00:00   \n",
       "\n",
       "   code_combi     lvalue  atribut  \n",
       "0         401       8.23        1  \n",
       "1         906     993.06        1  \n",
       "2        5301      -0.55        1  \n",
       "3         906     995.97        1  \n",
       "4        7001       0.00        1  "
      ]
     },
     "metadata": {},
     "output_type": "display_data"
    },
    {
     "name": "stdout",
     "output_type": "stream",
     "text": [
      "\n",
      " \u001B[1m \u001B[32mdescribe\u001B[0m \u001B[0m \n",
      "\n",
      "\n",
      " \u001B[1m \u001B[34m_type\u001B[0m \u001B[0m \n",
      " count                                            2627777\n",
      "unique                                                 1\n",
      "top       datasets/gov/aaa/oro_stociu_matavimai/Averages\n",
      "freq                                             2627777\n",
      "Name: _type, dtype: object\n",
      "\n",
      " \u001B[1m \u001B[34m_id\u001B[0m \u001B[0m \n",
      " count                                  2627777\n",
      "unique                                 2627777\n",
      "top       ffc91117-d74c-411b-b579-6006f6343124\n",
      "freq                                         1\n",
      "Name: _id, dtype: object\n",
      "\n",
      " \u001B[1m \u001B[34m_revision\u001B[0m \u001B[0m \n",
      " count                                  2627777\n",
      "unique                                 2627777\n",
      "top       fe9212e8-524f-4771-884c-f37c4c520ce1\n",
      "freq                                         1\n",
      "Name: _revision, dtype: object\n",
      "\n",
      " \u001B[1m \u001B[34mid\u001B[0m \u001B[0m \n",
      " count     2627777.00\n",
      "mean    351406264.52\n",
      "std     206039965.19\n",
      "min        722313.00\n",
      "25%     125469720.00\n",
      "50%     398467385.00\n",
      "75%     520119327.00\n",
      "max     680955116.00\n",
      "Name: id, dtype: float64\n",
      "\n",
      " \u001B[1m \u001B[34mstat_num._id\u001B[0m \u001B[0m \n",
      " count                                  2627777\n",
      "unique                                      21\n",
      "top       6bd59444-5437-447d-bc2d-c32ef5b0a964\n",
      "freq                                    964046\n",
      "Name: stat_num._id, dtype: object\n",
      "\n",
      " \u001B[1m \u001B[34mldatetime\u001B[0m \u001B[0m \n",
      " count                 2627777\n",
      "unique                 168489\n",
      "top       2019-04-05T16:00:00\n",
      "freq                      203\n",
      "Name: ldatetime, dtype: object\n",
      "\n",
      " \u001B[1m \u001B[34mcode_combi\u001B[0m \u001B[0m \n",
      " count   2627777.00\n",
      "mean       2802.14\n",
      "std        2689.27\n",
      "min         101.00\n",
      "25%         906.00\n",
      "50%        1201.00\n",
      "75%        4801.00\n",
      "max       99999.00\n",
      "Name: code_combi, dtype: float64\n",
      "\n",
      " \u001B[1m \u001B[34mlvalue\u001B[0m \u001B[0m \n",
      " count   2627777.00\n",
      "mean        213.32\n",
      "std       10165.23\n",
      "min     -504141.41\n",
      "25%           0.00\n",
      "50%           1.26\n",
      "75%          65.19\n",
      "max     9999000.00\n",
      "Name: lvalue, dtype: float64\n",
      "\n",
      " \u001B[1m \u001B[34matribut\u001B[0m \u001B[0m \n",
      " count   2627777.00\n",
      "mean          1.00\n",
      "std           0.00\n",
      "min           1.00\n",
      "25%           1.00\n",
      "50%           1.00\n",
      "75%           1.00\n",
      "max           1.00\n",
      "Name: atribut, dtype: float64\n",
      "\n",
      " \u001B[1m \u001B[32mduplicated\u001B[0m \u001B[0m \n",
      "\n",
      "0\n"
     ]
    }
   ],
   "source": [
    "#данные об электродах;\n",
    "print_basic_info(data_averages,1,1,1,5)"
   ]
  },
  {
   "cell_type": "code",
   "execution_count": 186,
   "metadata": {},
   "outputs": [],
   "source": [
    "data_averages['datetime'] = pd.to_datetime(data_averages.ldatetime)"
   ]
  },
  {
   "cell_type": "code",
   "execution_count": 187,
   "metadata": {},
   "outputs": [
    {
     "name": "stdout",
     "output_type": "stream",
     "text": [
      "\u001B[1m % mean in test sample: target \u001B[34m2802.14\u001B[0m\n"
     ]
    },
    {
     "data": {
      "image/png": "[encoded data removed]",
      "text/plain": [
       "<Figure size 640x480 with 1 Axes>"
      ]
     },
     "metadata": {
      "image/png": {
       "height": 457,
       "width": 602
      }
     },
     "output_type": "display_data"
    }
   ],
   "source": [
    "#**Проверка на логичность**\n",
    "print(bold(),\"% mean in test sample: target\",colored(round(data_averages['code_combi'].mean(),2),'blue'))\n",
    "\n",
    "data_averages['datetime'].hist(bins = 50, alpha=0.5, density=True)\n",
    "\n",
    "plt.xlabel('dates')\n",
    "plt.ylabel('Плотность распределения')\n",
    "plt.title('Распределение datetime по выборке', fontsize=15) \n",
    "plt.show()"
   ]
  },
  {
   "cell_type": "markdown",
   "metadata": {
    "pycharm": {
     "name": "#%% md\n"
    }
   },
   "source": [
    "* Всего 14876. Пропусков нет.\n",
    "* Полных дублей нет.\n",
    "* Уникальных ключей всего 3214. Значит было несколько последовательных нагревов.\n",
    "Что с этим делать? Помимо среднего времени нагрева и мощностей можно посчитать количество нагревов.\n",
    "* Минусовая реактивная мощность? Если единичный случай - удалим.\n",
    "* Как соотносится активная и реактивная энергия? Сравним."
   ]
  },
  {
   "cell_type": "code",
   "execution_count": 188,
   "metadata": {
    "pycharm": {
     "name": "#%%\n"
    }
   },
   "outputs": [
    {
     "name": "stdout",
     "output_type": "stream",
     "text": [
      "\n",
      " \u001B[1m \u001B[32minfo\u001B[0m \u001B[0m \n",
      "\n",
      "<class 'pandas.core.frame.DataFrame'>\n",
      "RangeIndex: 90 entries, 0 to 89\n",
      "Data columns (total 9 columns):\n",
      " #   Column         Non-Null Count  Dtype \n",
      "---  ------         --------------  ----- \n",
      " 0   _type          90 non-null     object\n",
      " 1   _id            90 non-null     object\n",
      " 2   _revision      90 non-null     object\n",
      " 3   code_quantity  90 non-null     int64 \n",
      " 4   shortname      90 non-null     object\n",
      " 5   longname       78 non-null     object\n",
      " 6   attrib         90 non-null     object\n",
      " 7   code_unit._id  89 non-null     object\n",
      " 8   id             90 non-null     int64 \n",
      "dtypes: int64(2), object(7)\n",
      "memory usage: 6.5+ KB\n",
      "None\n",
      "\n",
      " \u001B[1m \u001B[32mhead\u001B[0m \u001B[0m\n"
     ]
    },
    {
     "data": {
      "text/html": [
       "<div>\n",
       "<style scoped>\n",
       "    .dataframe tbody tr th:only-of-type {\n",
       "        vertical-align: middle;\n",
       "    }\n",
       "\n",
       "    .dataframe tbody tr th {\n",
       "        vertical-align: top;\n",
       "    }\n",
       "\n",
       "    .dataframe thead th {\n",
       "        text-align: right;\n",
       "    }\n",
       "</style>\n",
       "<table border=\"1\" class=\"dataframe\">\n",
       "  <thead>\n",
       "    <tr style=\"text-align: right;\">\n",
       "      <th></th>\n",
       "      <th>_type</th>\n",
       "      <th>_id</th>\n",
       "      <th>_revision</th>\n",
       "      <th>code_quantity</th>\n",
       "      <th>shortname</th>\n",
       "      <th>longname</th>\n",
       "      <th>attrib</th>\n",
       "      <th>code_unit._id</th>\n",
       "      <th>id</th>\n",
       "    </tr>\n",
       "  </thead>\n",
       "  <tbody>\n",
       "    <tr>\n",
       "      <th>0</th>\n",
       "      <td>datasets/gov/aaa/oro_stociu_matavimai/Quantity</td>\n",
       "      <td>0b30092e-0bac-4a8a-a21b-ea3916ae6e85</td>\n",
       "      <td>ff6ed76a-b4e1-4249-b1fe-c8f06aa47c79</td>\n",
       "      <td>1</td>\n",
       "      <td>SO2</td>\n",
       "      <td>sulphur dioxide</td>\n",
       "      <td>gasep</td>\n",
       "      <td>28f650e6-08d2-4311-98fe-55cc2aba9ff0</td>\n",
       "      <td>1</td>\n",
       "    </tr>\n",
       "    <tr>\n",
       "      <th>1</th>\n",
       "      <td>datasets/gov/aaa/oro_stociu_matavimai/Quantity</td>\n",
       "      <td>4d35af60-b123-4399-9dc3-bab198a51522</td>\n",
       "      <td>9bef114f-36d5-4326-ae1d-e8167190aab0</td>\n",
       "      <td>10</td>\n",
       "      <td>WV</td>\n",
       "      <td>wind velocity</td>\n",
       "      <td>meteo</td>\n",
       "      <td>0fc540c4-cae8-4557-a091-6e310dd8d095</td>\n",
       "      <td>10</td>\n",
       "    </tr>\n",
       "    <tr>\n",
       "      <th>2</th>\n",
       "      <td>datasets/gov/aaa/oro_stociu_matavimai/Quantity</td>\n",
       "      <td>e0323a9d-6af8-413e-88cb-360f54f4fa7f</td>\n",
       "      <td>10e0155e-5291-4280-9d9f-2e3b06bb22db</td>\n",
       "      <td>11</td>\n",
       "      <td>WD</td>\n",
       "      <td>wind direction</td>\n",
       "      <td>meteo</td>\n",
       "      <td>85e37543-6901-475a-83e1-0647bbd4b2bc</td>\n",
       "      <td>11</td>\n",
       "    </tr>\n",
       "    <tr>\n",
       "      <th>3</th>\n",
       "      <td>datasets/gov/aaa/oro_stociu_matavimai/Quantity</td>\n",
       "      <td>6173af32-5fc5-4aa6-8828-0fe40bd550ab</td>\n",
       "      <td>a255de45-9ed0-4906-8d5e-b37281187e22</td>\n",
       "      <td>12</td>\n",
       "      <td>O3</td>\n",
       "      <td>ozon</td>\n",
       "      <td>gasep</td>\n",
       "      <td>28f650e6-08d2-4311-98fe-55cc2aba9ff0</td>\n",
       "      <td>12</td>\n",
       "    </tr>\n",
       "    <tr>\n",
       "      <th>4</th>\n",
       "      <td>datasets/gov/aaa/oro_stociu_matavimai/Quantity</td>\n",
       "      <td>c382f198-f350-4379-9c27-8acd3d73a3aa</td>\n",
       "      <td>571f884c-7bb5-404f-9a29-0453257b45ce</td>\n",
       "      <td>13</td>\n",
       "      <td>CO</td>\n",
       "      <td>carbon monoxide</td>\n",
       "      <td>gasep</td>\n",
       "      <td>48518a60-6e96-4b6f-93b8-bcaeff67685a</td>\n",
       "      <td>13</td>\n",
       "    </tr>\n",
       "  </tbody>\n",
       "</table>\n",
       "</div>"
      ],
      "text/plain": [
       "                                            _type  \\\n",
       "0  datasets/gov/aaa/oro_stociu_matavimai/Quantity   \n",
       "1  datasets/gov/aaa/oro_stociu_matavimai/Quantity   \n",
       "2  datasets/gov/aaa/oro_stociu_matavimai/Quantity   \n",
       "3  datasets/gov/aaa/oro_stociu_matavimai/Quantity   \n",
       "4  datasets/gov/aaa/oro_stociu_matavimai/Quantity   \n",
       "\n",
       "                                    _id                             _revision  \\\n",
       "0  0b30092e-0bac-4a8a-a21b-ea3916ae6e85  ff6ed76a-b4e1-4249-b1fe-c8f06aa47c79   \n",
       "1  4d35af60-b123-4399-9dc3-bab198a51522  9bef114f-36d5-4326-ae1d-e8167190aab0   \n",
       "2  e0323a9d-6af8-413e-88cb-360f54f4fa7f  10e0155e-5291-4280-9d9f-2e3b06bb22db   \n",
       "3  6173af32-5fc5-4aa6-8828-0fe40bd550ab  a255de45-9ed0-4906-8d5e-b37281187e22   \n",
       "4  c382f198-f350-4379-9c27-8acd3d73a3aa  571f884c-7bb5-404f-9a29-0453257b45ce   \n",
       "\n",
       "   code_quantity shortname         longname attrib  \\\n",
       "0              1       SO2  sulphur dioxide  gasep   \n",
       "1             10        WV    wind velocity  meteo   \n",
       "2             11        WD   wind direction  meteo   \n",
       "3             12        O3             ozon  gasep   \n",
       "4             13        CO  carbon monoxide  gasep   \n",
       "\n",
       "                          code_unit._id  id  \n",
       "0  28f650e6-08d2-4311-98fe-55cc2aba9ff0   1  \n",
       "1  0fc540c4-cae8-4557-a091-6e310dd8d095  10  \n",
       "2  85e37543-6901-475a-83e1-0647bbd4b2bc  11  \n",
       "3  28f650e6-08d2-4311-98fe-55cc2aba9ff0  12  \n",
       "4  48518a60-6e96-4b6f-93b8-bcaeff67685a  13  "
      ]
     },
     "metadata": {},
     "output_type": "display_data"
    },
    {
     "name": "stdout",
     "output_type": "stream",
     "text": [
      "\n",
      " \u001B[1m \u001B[32mdescribe\u001B[0m \u001B[0m \n",
      "\n",
      "\n",
      " \u001B[1m \u001B[34m_type\u001B[0m \u001B[0m \n",
      " count                                                 90\n",
      "unique                                                 1\n",
      "top       datasets/gov/aaa/oro_stociu_matavimai/Quantity\n",
      "freq                                                  90\n",
      "Name: _type, dtype: object\n",
      "\n",
      " \u001B[1m \u001B[34m_id\u001B[0m \u001B[0m \n",
      " count                                       90\n",
      "unique                                      90\n",
      "top       0b30092e-0bac-4a8a-a21b-ea3916ae6e85\n",
      "freq                                         1\n",
      "Name: _id, dtype: object\n",
      "\n",
      " \u001B[1m \u001B[34m_revision\u001B[0m \u001B[0m \n",
      " count                                       90\n",
      "unique                                      90\n",
      "top       ff6ed76a-b4e1-4249-b1fe-c8f06aa47c79\n",
      "freq                                         1\n",
      "Name: _revision, dtype: object\n",
      "\n",
      " \u001B[1m \u001B[34mcode_quantity\u001B[0m \u001B[0m \n",
      " count        90.00\n",
      "mean         45.50\n",
      "std          26.12\n",
      "min           1.00\n",
      "25%          23.25\n",
      "50%          45.50\n",
      "75%          67.75\n",
      "max          90.00\n",
      "Name: code_quantity, dtype: float64\n",
      "\n",
      " \u001B[1m \u001B[34mshortname\u001B[0m \u001B[0m \n",
      " count      90\n",
      "unique     90\n",
      "top       SO2\n",
      "freq        1\n",
      "Name: shortname, dtype: object\n",
      "\n",
      " \u001B[1m \u001B[34mlongname\u001B[0m \u001B[0m \n",
      " count                 78\n",
      "unique                75\n",
      "top       wind direction\n",
      "freq                   2\n",
      "Name: longname, dtype: object\n",
      "\n",
      " \u001B[1m \u001B[34mattrib\u001B[0m \u001B[0m \n",
      " count        90\n",
      "unique        7\n",
      "top       Oprek\n",
      "freq         27\n",
      "Name: attrib, dtype: object\n",
      "\n",
      " \u001B[1m \u001B[34mcode_unit._id\u001B[0m \u001B[0m \n",
      " count                                       89\n",
      "unique                                      16\n",
      "top       28f650e6-08d2-4311-98fe-55cc2aba9ff0\n",
      "freq                                        45\n",
      "Name: code_unit._id, dtype: object\n",
      "\n",
      " \u001B[1m \u001B[34mid\u001B[0m \u001B[0m \n",
      " count        90.00\n",
      "mean         45.50\n",
      "std          26.12\n",
      "min           1.00\n",
      "25%          23.25\n",
      "50%          45.50\n",
      "75%          67.75\n",
      "max          90.00\n",
      "Name: id, dtype: float64\n",
      "\n",
      " \u001B[1m \u001B[32mduplicated\u001B[0m \u001B[0m \n",
      "\n",
      "0\n"
     ]
    }
   ],
   "source": [
    "#данные об электродах;\n",
    "print_basic_info(data_quantity,1,1,1,5)"
   ]
  },
  {
   "cell_type": "code",
   "execution_count": 189,
   "metadata": {},
   "outputs": [
    {
     "data": {
      "text/plain": [
       "longname\n",
       "wind direction              2\n",
       "n-hexane                    2\n",
       "non-methane hydrocarbons    2\n",
       "sulphur dioxide             1\n",
       "1,3-butadiene-PID           1\n",
       "                           ..\n",
       "n-heptane                   1\n",
       "PM25 particulates           1\n",
       "nitrogen oxides             1\n",
       "wind speed                  1\n",
       "PM total particulates       1\n",
       "Name: count, Length: 75, dtype: int64"
      ]
     },
     "execution_count": 189,
     "metadata": {},
     "output_type": "execute_result"
    }
   ],
   "source": [
    "data_quantity.longname.value_counts()"
   ]
  },
  {
   "cell_type": "markdown",
   "metadata": {
    "pycharm": {
     "name": "#%% md\n"
    }
   },
   "source": [
    "* Всего 14876. Пропусков нет.\n",
    "* Полных дублей нет.\n",
    "* Уникальных ключей всего 3214. Значит было несколько последовательных нагревов.\n",
    "Что с этим делать? Помимо среднего времени нагрева и мощностей можно посчитать количество нагревов.\n",
    "* Минусовая реактивная мощность? Если единичный случай - удалим.\n",
    "* Как соотносится активная и реактивная энергия? Сравним."
   ]
  },
  {
   "cell_type": "code",
   "execution_count": 190,
   "metadata": {
    "pycharm": {
     "name": "#%%\n"
    }
   },
   "outputs": [
    {
     "name": "stdout",
     "output_type": "stream",
     "text": [
      "\n",
      " \u001B[1m \u001B[32minfo\u001B[0m \u001B[0m \n",
      "\n",
      "<class 'pandas.core.frame.DataFrame'>\n",
      "RangeIndex: 962 entries, 0 to 961\n",
      "Data columns (total 6 columns):\n",
      " #   Column             Non-Null Count  Dtype \n",
      "---  ------             --------------  ----- \n",
      " 0   _type              962 non-null    object\n",
      " 1   _id                962 non-null    object\n",
      " 2   _revision          962 non-null    object\n",
      " 3   code_combi         962 non-null    int64 \n",
      " 4   code_quantity._id  962 non-null    object\n",
      " 5   code_unit._id      962 non-null    object\n",
      "dtypes: int64(1), object(5)\n",
      "memory usage: 45.2+ KB\n",
      "None\n",
      "\n",
      " \u001B[1m \u001B[32mhead\u001B[0m \u001B[0m\n"
     ]
    },
    {
     "data": {
      "text/html": [
       "<div>\n",
       "<style scoped>\n",
       "    .dataframe tbody tr th:only-of-type {\n",
       "        vertical-align: middle;\n",
       "    }\n",
       "\n",
       "    .dataframe tbody tr th {\n",
       "        vertical-align: top;\n",
       "    }\n",
       "\n",
       "    .dataframe thead th {\n",
       "        text-align: right;\n",
       "    }\n",
       "</style>\n",
       "<table border=\"1\" class=\"dataframe\">\n",
       "  <thead>\n",
       "    <tr style=\"text-align: right;\">\n",
       "      <th></th>\n",
       "      <th>_type</th>\n",
       "      <th>_id</th>\n",
       "      <th>_revision</th>\n",
       "      <th>code_combi</th>\n",
       "      <th>code_quantity._id</th>\n",
       "      <th>code_unit._id</th>\n",
       "    </tr>\n",
       "  </thead>\n",
       "  <tbody>\n",
       "    <tr>\n",
       "      <th>0</th>\n",
       "      <td>datasets/gov/aaa/oro_stociu_matavimai/Quantity...</td>\n",
       "      <td>fc3dbd53-8169-4d06-ba40-c0c246979a43</td>\n",
       "      <td>2831cd24-7b3f-464c-8059-7b33a9f822b1</td>\n",
       "      <td>119</td>\n",
       "      <td>0b30092e-0bac-4a8a-a21b-ea3916ae6e85</td>\n",
       "      <td>97bed18a-fcaa-4ecd-97a6-0b04d2801e29</td>\n",
       "    </tr>\n",
       "    <tr>\n",
       "      <th>1</th>\n",
       "      <td>datasets/gov/aaa/oro_stociu_matavimai/Quantity...</td>\n",
       "      <td>fe65364b-0d80-4589-a0c7-23cb3a9711c2</td>\n",
       "      <td>5859818c-a22f-4dc5-a3b6-1c166007fae2</td>\n",
       "      <td>120</td>\n",
       "      <td>0b30092e-0bac-4a8a-a21b-ea3916ae6e85</td>\n",
       "      <td>8b8b188a-4344-4c05-8fe9-39b73e8d5915</td>\n",
       "    </tr>\n",
       "    <tr>\n",
       "      <th>2</th>\n",
       "      <td>datasets/gov/aaa/oro_stociu_matavimai/Quantity...</td>\n",
       "      <td>883afb01-6f6e-4157-a355-83a6a1699023</td>\n",
       "      <td>9631009a-5f10-4530-a62b-2949f6dec22e</td>\n",
       "      <td>121</td>\n",
       "      <td>0b30092e-0bac-4a8a-a21b-ea3916ae6e85</td>\n",
       "      <td>8da58da5-dedc-4c8d-b799-3714f527c322</td>\n",
       "    </tr>\n",
       "    <tr>\n",
       "      <th>3</th>\n",
       "      <td>datasets/gov/aaa/oro_stociu_matavimai/Quantity...</td>\n",
       "      <td>9a02e7e2-e6d3-4ebb-91cb-126538b02bf5</td>\n",
       "      <td>93bf15cb-4a3a-46bb-b43a-8e9c01d8ffe4</td>\n",
       "      <td>201</td>\n",
       "      <td>686bb9d9-e770-4034-b6d9-f75a6d922141</td>\n",
       "      <td>28f650e6-08d2-4311-98fe-55cc2aba9ff0</td>\n",
       "    </tr>\n",
       "    <tr>\n",
       "      <th>4</th>\n",
       "      <td>datasets/gov/aaa/oro_stociu_matavimai/Quantity...</td>\n",
       "      <td>6b2ea22a-79c6-4310-9ccc-925dd5385b24</td>\n",
       "      <td>6df05649-8351-4879-a00d-cdf661c9bb14</td>\n",
       "      <td>202</td>\n",
       "      <td>686bb9d9-e770-4034-b6d9-f75a6d922141</td>\n",
       "      <td>48518a60-6e96-4b6f-93b8-bcaeff67685a</td>\n",
       "    </tr>\n",
       "  </tbody>\n",
       "</table>\n",
       "</div>"
      ],
      "text/plain": [
       "                                               _type  \\\n",
       "0  datasets/gov/aaa/oro_stociu_matavimai/Quantity...   \n",
       "1  datasets/gov/aaa/oro_stociu_matavimai/Quantity...   \n",
       "2  datasets/gov/aaa/oro_stociu_matavimai/Quantity...   \n",
       "3  datasets/gov/aaa/oro_stociu_matavimai/Quantity...   \n",
       "4  datasets/gov/aaa/oro_stociu_matavimai/Quantity...   \n",
       "\n",
       "                                    _id                             _revision  \\\n",
       "0  fc3dbd53-8169-4d06-ba40-c0c246979a43  2831cd24-7b3f-464c-8059-7b33a9f822b1   \n",
       "1  fe65364b-0d80-4589-a0c7-23cb3a9711c2  5859818c-a22f-4dc5-a3b6-1c166007fae2   \n",
       "2  883afb01-6f6e-4157-a355-83a6a1699023  9631009a-5f10-4530-a62b-2949f6dec22e   \n",
       "3  9a02e7e2-e6d3-4ebb-91cb-126538b02bf5  93bf15cb-4a3a-46bb-b43a-8e9c01d8ffe4   \n",
       "4  6b2ea22a-79c6-4310-9ccc-925dd5385b24  6df05649-8351-4879-a00d-cdf661c9bb14   \n",
       "\n",
       "   code_combi                     code_quantity._id  \\\n",
       "0         119  0b30092e-0bac-4a8a-a21b-ea3916ae6e85   \n",
       "1         120  0b30092e-0bac-4a8a-a21b-ea3916ae6e85   \n",
       "2         121  0b30092e-0bac-4a8a-a21b-ea3916ae6e85   \n",
       "3         201  686bb9d9-e770-4034-b6d9-f75a6d922141   \n",
       "4         202  686bb9d9-e770-4034-b6d9-f75a6d922141   \n",
       "\n",
       "                          code_unit._id  \n",
       "0  97bed18a-fcaa-4ecd-97a6-0b04d2801e29  \n",
       "1  8b8b188a-4344-4c05-8fe9-39b73e8d5915  \n",
       "2  8da58da5-dedc-4c8d-b799-3714f527c322  \n",
       "3  28f650e6-08d2-4311-98fe-55cc2aba9ff0  \n",
       "4  48518a60-6e96-4b6f-93b8-bcaeff67685a  "
      ]
     },
     "metadata": {},
     "output_type": "display_data"
    },
    {
     "name": "stdout",
     "output_type": "stream",
     "text": [
      "\n",
      " \u001B[1m \u001B[32mdescribe\u001B[0m \u001B[0m \n",
      "\n",
      "\n",
      " \u001B[1m \u001B[34m_type\u001B[0m \u001B[0m \n",
      " count                                                   962\n",
      "unique                                                    1\n",
      "top       datasets/gov/aaa/oro_stociu_matavimai/Quantity...\n",
      "freq                                                    962\n",
      "Name: _type, dtype: object\n",
      "\n",
      " \u001B[1m \u001B[34m_id\u001B[0m \u001B[0m \n",
      " count                                      962\n",
      "unique                                     962\n",
      "top       fc3dbd53-8169-4d06-ba40-c0c246979a43\n",
      "freq                                         1\n",
      "Name: _id, dtype: object\n",
      "\n",
      " \u001B[1m \u001B[34m_revision\u001B[0m \u001B[0m \n",
      " count                                      962\n",
      "unique                                     962\n",
      "top       2831cd24-7b3f-464c-8059-7b33a9f822b1\n",
      "freq                                         1\n",
      "Name: _revision, dtype: object\n",
      "\n",
      " \u001B[1m \u001B[34mcode_combi\u001B[0m \u001B[0m \n",
      " count       962.00\n",
      "mean       2500.48\n",
      "std        1682.71\n",
      "min         101.00\n",
      "25%        1210.25\n",
      "50%        2319.50\n",
      "75%        3507.75\n",
      "max        8621.00\n",
      "Name: code_combi, dtype: float64\n",
      "\n",
      " \u001B[1m \u001B[34mcode_quantity._id\u001B[0m \u001B[0m \n",
      " count                                      962\n",
      "unique                                      86\n",
      "top       0b30092e-0bac-4a8a-a21b-ea3916ae6e85\n",
      "freq                                        21\n",
      "Name: code_quantity._id, dtype: object\n",
      "\n",
      " \u001B[1m \u001B[34mcode_unit._id\u001B[0m \u001B[0m \n",
      " count                                      962\n",
      "unique                                      25\n",
      "top       28f650e6-08d2-4311-98fe-55cc2aba9ff0\n",
      "freq                                        75\n",
      "Name: code_unit._id, dtype: object\n",
      "\n",
      " \u001B[1m \u001B[32mduplicated\u001B[0m \u001B[0m \n",
      "\n",
      "0\n"
     ]
    }
   ],
   "source": [
    "#данные об электродах;\n",
    "print_basic_info(data_quantity_units,1,1,1,5)"
   ]
  },
  {
   "cell_type": "markdown",
   "metadata": {
    "pycharm": {
     "name": "#%% md\n"
    }
   },
   "source": [
    "* Всего 14876. Пропусков нет.\n",
    "* Полных дублей нет.\n",
    "* Уникальных ключей всего 3214. Значит было несколько последовательных нагревов.\n",
    "Что с этим делать? Помимо среднего времени нагрева и мощностей можно посчитать количество нагревов.\n",
    "* Минусовая реактивная мощность? Если единичный случай - удалим.\n",
    "* Как соотносится активная и реактивная энергия? Сравним."
   ]
  },
  {
   "cell_type": "code",
   "execution_count": 191,
   "metadata": {
    "pycharm": {
     "name": "#%%\n"
    }
   },
   "outputs": [
    {
     "name": "stdout",
     "output_type": "stream",
     "text": [
      "\n",
      " \u001B[1m \u001B[32minfo\u001B[0m \u001B[0m \n",
      "\n",
      "<class 'pandas.core.frame.DataFrame'>\n",
      "RangeIndex: 22 entries, 0 to 21\n",
      "Data columns (total 6 columns):\n",
      " #   Column     Non-Null Count  Dtype  \n",
      "---  ------     --------------  -----  \n",
      " 0   _type      22 non-null     object \n",
      " 1   _id        22 non-null     object \n",
      " 2   _revision  22 non-null     object \n",
      " 3   stat_num   22 non-null     int64  \n",
      " 4   latitude   17 non-null     float64\n",
      " 5   longitude  17 non-null     float64\n",
      "dtypes: float64(2), int64(1), object(3)\n",
      "memory usage: 1.2+ KB\n",
      "None\n",
      "\n",
      " \u001B[1m \u001B[32mhead\u001B[0m \u001B[0m\n"
     ]
    },
    {
     "data": {
      "text/html": [
       "<div>\n",
       "<style scoped>\n",
       "    .dataframe tbody tr th:only-of-type {\n",
       "        vertical-align: middle;\n",
       "    }\n",
       "\n",
       "    .dataframe tbody tr th {\n",
       "        vertical-align: top;\n",
       "    }\n",
       "\n",
       "    .dataframe thead th {\n",
       "        text-align: right;\n",
       "    }\n",
       "</style>\n",
       "<table border=\"1\" class=\"dataframe\">\n",
       "  <thead>\n",
       "    <tr style=\"text-align: right;\">\n",
       "      <th></th>\n",
       "      <th>_type</th>\n",
       "      <th>_id</th>\n",
       "      <th>_revision</th>\n",
       "      <th>stat_num</th>\n",
       "      <th>latitude</th>\n",
       "      <th>longitude</th>\n",
       "    </tr>\n",
       "  </thead>\n",
       "  <tbody>\n",
       "    <tr>\n",
       "      <th>0</th>\n",
       "      <td>datasets/gov/aaa/oro_stociu_matavimai/Station</td>\n",
       "      <td>a23fd8f6-f238-4fa8-88d0-ddeb23b60b59</td>\n",
       "      <td>d01623db-0c92-4db2-a1d5-6b06831310df</td>\n",
       "      <td>33</td>\n",
       "      <td>55.69</td>\n",
       "      <td>21.18</td>\n",
       "    </tr>\n",
       "    <tr>\n",
       "      <th>1</th>\n",
       "      <td>datasets/gov/aaa/oro_stociu_matavimai/Station</td>\n",
       "      <td>8628cd14-cc2c-4b7a-a17d-98e9b9d42083</td>\n",
       "      <td>6baf2065-1a49-4f4a-a6af-32eaa52fde6c</td>\n",
       "      <td>12</td>\n",
       "      <td>55.73</td>\n",
       "      <td>24.37</td>\n",
       "    </tr>\n",
       "    <tr>\n",
       "      <th>2</th>\n",
       "      <td>datasets/gov/aaa/oro_stociu_matavimai/Station</td>\n",
       "      <td>27cbf611-ff8f-4851-bf66-e87d96303ad8</td>\n",
       "      <td>f7afcd74-b6b3-48d7-883c-e2abe7a46592</td>\n",
       "      <td>11</td>\n",
       "      <td>NaN</td>\n",
       "      <td>NaN</td>\n",
       "    </tr>\n",
       "    <tr>\n",
       "      <th>3</th>\n",
       "      <td>datasets/gov/aaa/oro_stociu_matavimai/Station</td>\n",
       "      <td>f7636a52-2e03-43da-83d9-a70a8bb41f7b</td>\n",
       "      <td>295f1729-3f12-42d4-af54-56162c74a112</td>\n",
       "      <td>51</td>\n",
       "      <td>55.46</td>\n",
       "      <td>26.00</td>\n",
       "    </tr>\n",
       "    <tr>\n",
       "      <th>4</th>\n",
       "      <td>datasets/gov/aaa/oro_stociu_matavimai/Station</td>\n",
       "      <td>ef4fb1da-264d-42f8-893f-e9e3b1f6b2d9</td>\n",
       "      <td>aa4d9094-dcb2-488d-b6b6-97c128a9a4ff</td>\n",
       "      <td>52</td>\n",
       "      <td>54.09</td>\n",
       "      <td>24.29</td>\n",
       "    </tr>\n",
       "  </tbody>\n",
       "</table>\n",
       "</div>"
      ],
      "text/plain": [
       "                                           _type  \\\n",
       "0  datasets/gov/aaa/oro_stociu_matavimai/Station   \n",
       "1  datasets/gov/aaa/oro_stociu_matavimai/Station   \n",
       "2  datasets/gov/aaa/oro_stociu_matavimai/Station   \n",
       "3  datasets/gov/aaa/oro_stociu_matavimai/Station   \n",
       "4  datasets/gov/aaa/oro_stociu_matavimai/Station   \n",
       "\n",
       "                                    _id                             _revision  \\\n",
       "0  a23fd8f6-f238-4fa8-88d0-ddeb23b60b59  d01623db-0c92-4db2-a1d5-6b06831310df   \n",
       "1  8628cd14-cc2c-4b7a-a17d-98e9b9d42083  6baf2065-1a49-4f4a-a6af-32eaa52fde6c   \n",
       "2  27cbf611-ff8f-4851-bf66-e87d96303ad8  f7afcd74-b6b3-48d7-883c-e2abe7a46592   \n",
       "3  f7636a52-2e03-43da-83d9-a70a8bb41f7b  295f1729-3f12-42d4-af54-56162c74a112   \n",
       "4  ef4fb1da-264d-42f8-893f-e9e3b1f6b2d9  aa4d9094-dcb2-488d-b6b6-97c128a9a4ff   \n",
       "\n",
       "   stat_num   latitude  longitude  \n",
       "0        33      55.69      21.18  \n",
       "1        12      55.73      24.37  \n",
       "2        11        NaN        NaN  \n",
       "3        51      55.46      26.00  \n",
       "4        52      54.09      24.29  "
      ]
     },
     "metadata": {},
     "output_type": "display_data"
    },
    {
     "name": "stdout",
     "output_type": "stream",
     "text": [
      "\n",
      " \u001B[1m \u001B[32mdescribe\u001B[0m \u001B[0m \n",
      "\n",
      "\n",
      " \u001B[1m \u001B[34m_type\u001B[0m \u001B[0m \n",
      " count                                                22\n",
      "unique                                                1\n",
      "top       datasets/gov/aaa/oro_stociu_matavimai/Station\n",
      "freq                                                 22\n",
      "Name: _type, dtype: object\n",
      "\n",
      " \u001B[1m \u001B[34m_id\u001B[0m \u001B[0m \n",
      " count                                       22\n",
      "unique                                      22\n",
      "top       a23fd8f6-f238-4fa8-88d0-ddeb23b60b59\n",
      "freq                                         1\n",
      "Name: _id, dtype: object\n",
      "\n",
      " \u001B[1m \u001B[34m_revision\u001B[0m \u001B[0m \n",
      " count                                       22\n",
      "unique                                      22\n",
      "top       d01623db-0c92-4db2-a1d5-6b06831310df\n",
      "freq                                         1\n",
      "Name: _revision, dtype: object\n",
      "\n",
      " \u001B[1m \u001B[34mstat_num\u001B[0m \u001B[0m \n",
      " count        22.00\n",
      "mean         32.45\n",
      "std          26.35\n",
      "min           1.00\n",
      "25%          11.25\n",
      "50%          31.50\n",
      "75%          43.75\n",
      "max          99.00\n",
      "Name: stat_num, dtype: float64\n",
      "\n",
      " \u001B[1m \u001B[34mlatitude\u001B[0m \u001B[0m \n",
      " count        17.00\n",
      "mean         55.30\n",
      "std           0.65\n",
      "min          54.09\n",
      "25%          54.72\n",
      "50%          55.28\n",
      "75%          55.73\n",
      "max          56.32\n",
      "Name: latitude, dtype: float64\n",
      "\n",
      " \u001B[1m \u001B[34mlongitude\u001B[0m \u001B[0m \n",
      " count        17.00\n",
      "mean         23.79\n",
      "std           1.48\n",
      "min          21.14\n",
      "25%          22.87\n",
      "50%          23.99\n",
      "75%          25.21\n",
      "max          26.00\n",
      "Name: longitude, dtype: float64\n",
      "\n",
      " \u001B[1m \u001B[32mduplicated\u001B[0m \u001B[0m \n",
      "\n",
      "0\n"
     ]
    }
   ],
   "source": [
    "#данные об электродах;\n",
    "print_basic_info(data_station,1,1,1,5)"
   ]
  },
  {
   "cell_type": "code",
   "execution_count": null,
   "metadata": {},
   "outputs": [],
   "source": []
  },
  {
   "cell_type": "code",
   "execution_count": 192,
   "metadata": {},
   "outputs": [
    {
     "data": {
      "image/png": "[encoded data removed]",
      "text/plain": [
       "<Figure size 640x480 with 1 Axes>"
      ]
     },
     "metadata": {
      "image/png": {
       "height": 457,
       "width": 554
      }
     },
     "output_type": "display_data"
    }
   ],
   "source": [
    "#**Проверка на логичность**\n",
    "\n",
    "data_station['latitude'].hist(bins = 50, alpha=0.5, density=True)\n",
    "data_station['longitude'].hist(bins = 50, alpha=0.5, density=True)\n",
    "\n",
    "\n",
    "plt.xlabel('dates')\n",
    "plt.ylabel('Плотность распределения')\n",
    "plt.title('Распределение datetime по выборке', fontsize=15) \n",
    "plt.show()"
   ]
  },
  {
   "cell_type": "markdown",
   "metadata": {
    "pycharm": {
     "name": "#%% md\n"
    }
   },
   "source": [
    "* Всего 14876. Пропусков нет.\n",
    "* Полных дублей нет.\n",
    "* Уникальных ключей всего 3214. Значит было несколько последовательных нагревов.\n",
    "Что с этим делать? Помимо среднего времени нагрева и мощностей можно посчитать количество нагревов.\n",
    "* Минусовая реактивная мощность? Если единичный случай - удалим.\n",
    "* Как соотносится активная и реактивная энергия? Сравним."
   ]
  },
  {
   "cell_type": "markdown",
   "metadata": {
    "pycharm": {
     "name": "#%% md\n"
    }
   },
   "source": [
    "## Код решения\n",
    "<a name=\"9.\"></a>\n",
    "[<font size=\"2\">(к содержанию)</font>](#1common.)"
   ]
  },
  {
   "cell_type": "markdown",
   "metadata": {
    "pycharm": {
     "name": "#%% md\n"
    }
   },
   "source": [
    "* **Почистить данные:**\n",
    "    * Где необходимо посчитать информацию по партиям и объединить данные в одну базу.\n",
    "    * Оставить только необходимые столбцы, в том числе, чтобы не было недоступной в реальных случаях информации (утечек).\n",
    "    \n",
    "    \n",
    "* **Подготовить данные для модели:**\n",
    "    * Разделение дата сета на тестовый и тренинговый/валидационный.\n",
    "    * Проверить на аномалии (например методом изоляционных деревьев). Посмотреть объем и принять решение об исключении их из тренировочного датасета.\n",
    "\n",
    "\n",
    "* **Построить модели:**\n",
    "    * Выявить пулл подходов учитывающий возможные ограничения и найти регрессионную модель удовлетворяющую необходимым характеристикам. \n",
    "    * Проверить модель на адекватность."
   ]
  },
  {
   "cell_type": "markdown",
   "metadata": {
    "pycharm": {
     "name": "#%% md\n"
    }
   },
   "source": [
    "### Чистка данных\n",
    "<a name=\"10.\"></a>\n",
    "[<font size=\"2\">(к содержанию)</font>](#1common.)\n",
    "\n",
    "* Где необходимо посчитать информацию по партиям и объединить данные в одну базу.\n",
    "* Оставить только необходимые столбцы, в том числе, чтобы не было недоступной в реальных случаях информации (утечек).\n",
    "\n",
    "Сначала поймем какие кейсы мы берем в работу. Для этого необходимо найти первую и последнюю температуру и сравнить их по времени.<br>\n",
    "Выкидываем если время это одинаковое (а значит был только один замер)."
   ]
  },
  {
   "cell_type": "markdown",
   "metadata": {
    "pycharm": {
     "name": "#%% md\n"
    }
   },
   "source": [
    "Больше всего влияет информация о первичной температуре, время нагрева и сила тока.\n",
    "<!-- #попробуем их перемножить, чтобы сделать новую фичу\n",
    "data_united['temp_power'] = data_united.start_temp * data_united.mean_active_power * data_united.mean_reactive_power -->"
   ]
  },
  {
   "cell_type": "code",
   "execution_count": 193,
   "metadata": {},
   "outputs": [
    {
     "data": {
      "text/plain": [
       "code_unit._id\n",
       "0fc540c4-cae8-4557-a091-6e310dd8d095        20.08\n",
       "28f650e6-08d2-4311-98fe-55cc2aba9ff0        53.63\n",
       "2b1b3b00-a4d3-4ea4-9dff-92374f6fc07b        97.15\n",
       "48518a60-6e96-4b6f-93b8-bcaeff67685a       231.31\n",
       "67461e7c-506e-430a-8962-cd25ebed54da       948.33\n",
       "7bd372b3-8736-45af-a86f-9221dc25affa       252.22\n",
       "85e37543-6901-475a-83e1-0647bbd4b2bc       189.27\n",
       "866e2570-2343-40fa-b0e7-999c75f9a46e        58.41\n",
       "89a0ce55-265d-4266-91ea-5eb0ed25b77b       505.71\n",
       "8b8b188a-4344-4c05-8fe9-39b73e8d5915       -12.38\n",
       "ce869cdc-5213-4728-96ef-a3a78b62a18b       553.20\n",
       "NaN                                         27.00\n",
       "Name: lvalue, dtype: float64"
      ]
     },
     "execution_count": 193,
     "metadata": {},
     "output_type": "execute_result"
    }
   ],
   "source": [
    "data = data_averages.merge(data_quantity_units,how='left', on = 'code_combi')\n",
    "\n",
    "data.groupby(by=\"code_unit._id\", dropna=False)['lvalue'].mean()"
   ]
  },
  {
   "cell_type": "code",
   "execution_count": 194,
   "metadata": {},
   "outputs": [],
   "source": [
    "data['year'] = data.datetime.dt.year\n",
    "data['month'] = data.datetime.dt.month\n",
    "data['weekday'] = data.datetime.dt.weekday\n",
    "data['day'] = data.datetime.dt.day"
   ]
  },
  {
   "cell_type": "code",
   "execution_count": 195,
   "metadata": {},
   "outputs": [],
   "source": [
    "data = data[data['year']== 2023]\n",
    "data =data[data['code_unit._id'] == '67461e7c-506e-430a-8962-cd25ebed54da']"
   ]
  },
  {
   "cell_type": "code",
   "execution_count": 196,
   "metadata": {
    "pycharm": {
     "name": "#%%\n"
    }
   },
   "outputs": [
    {
     "data": {
      "text/plain": [
       "code_unit._id\n",
       "28f650e6-08d2-4311-98fe-55cc2aba9ff0    45\n",
       "2b1b3b00-a4d3-4ea4-9dff-92374f6fc07b     9\n",
       "89a0ce55-265d-4266-91ea-5eb0ed25b77b     6\n",
       "bb00bdc2-70d3-4b20-a584-1586c8c1d267     5\n",
       "f24213b6-172a-47b8-960c-be177c547eee     4\n",
       "0fc540c4-cae8-4557-a091-6e310dd8d095     3\n",
       "48518a60-6e96-4b6f-93b8-bcaeff67685a     3\n",
       "85e37543-6901-475a-83e1-0647bbd4b2bc     2\n",
       "866e2570-2343-40fa-b0e7-999c75f9a46e     2\n",
       "8b8b188a-4344-4c05-8fe9-39b73e8d5915     2\n",
       "ce869cdc-5213-4728-96ef-a3a78b62a18b     2\n",
       "8da58da5-dedc-4c8d-b799-3714f527c322     2\n",
       "4797ee11-9fda-4178-930f-13ad3ae435a6     1\n",
       "30b66260-1510-456e-9d8b-50179126b543     1\n",
       "8fd74243-e9d1-430d-9ad5-5bccd2288be3     1\n",
       "67461e7c-506e-430a-8962-cd25ebed54da     1\n",
       "Name: count, dtype: int64"
      ]
     },
     "execution_count": 196,
     "metadata": {},
     "output_type": "execute_result"
    }
   ],
   "source": [
    "d_q = data_quantity[data_quantity['code_unit._id'] == '67461e7c-506e-430a-8962-cd25ebed54da'] \n",
    "data = data.merge(d_q,how='left', on = 'code_unit._id')\n",
    "data_quantity['code_unit._id'].value_counts()"
   ]
  },
  {
   "cell_type": "code",
   "execution_count": 197,
   "metadata": {
    "pycharm": {
     "name": "#%%\n"
    }
   },
   "outputs": [
    {
     "data": {
      "text/html": [
       "<div>\n",
       "<style scoped>\n",
       "    .dataframe tbody tr th:only-of-type {\n",
       "        vertical-align: middle;\n",
       "    }\n",
       "\n",
       "    .dataframe tbody tr th {\n",
       "        vertical-align: top;\n",
       "    }\n",
       "\n",
       "    .dataframe thead th {\n",
       "        text-align: right;\n",
       "    }\n",
       "</style>\n",
       "<table border=\"1\" class=\"dataframe\">\n",
       "  <thead>\n",
       "    <tr style=\"text-align: right;\">\n",
       "      <th></th>\n",
       "      <th>_type_x</th>\n",
       "      <th>_id_x</th>\n",
       "      <th>_revision_x</th>\n",
       "      <th>id_x</th>\n",
       "      <th>stat_num._id</th>\n",
       "      <th>ldatetime</th>\n",
       "      <th>code_combi</th>\n",
       "      <th>lvalue</th>\n",
       "      <th>atribut</th>\n",
       "      <th>datetime</th>\n",
       "      <th>...</th>\n",
       "      <th>shortname</th>\n",
       "      <th>longname</th>\n",
       "      <th>attrib</th>\n",
       "      <th>id_y</th>\n",
       "      <th>_type_yy</th>\n",
       "      <th>_id_yy</th>\n",
       "      <th>_revision_yy</th>\n",
       "      <th>stat_num</th>\n",
       "      <th>latitude</th>\n",
       "      <th>longitude</th>\n",
       "    </tr>\n",
       "  </thead>\n",
       "  <tbody>\n",
       "    <tr>\n",
       "      <th>0</th>\n",
       "      <td>datasets/gov/aaa/oro_stociu_matavimai/Averages</td>\n",
       "      <td>6081a1af-d3d7-46ff-a83e-e0da6e5191f3</td>\n",
       "      <td>02655ba4-e7ee-47d5-814d-683b1821ab15</td>\n",
       "      <td>652315134</td>\n",
       "      <td>f15078a3-c648-4ef2-93eb-9d2e473fffba</td>\n",
       "      <td>2023-01-04T21:00:00</td>\n",
       "      <td>906</td>\n",
       "      <td>984.48</td>\n",
       "      <td>1</td>\n",
       "      <td>2023-01-04 21:00:00</td>\n",
       "      <td>...</td>\n",
       "      <td>PRES</td>\n",
       "      <td>atm. pressure</td>\n",
       "      <td>meteo</td>\n",
       "      <td>9</td>\n",
       "      <td>datasets/gov/aaa/oro_stociu_matavimai/Station</td>\n",
       "      <td>f15078a3-c648-4ef2-93eb-9d2e473fffba</td>\n",
       "      <td>051fab6f-10b2-4774-b65b-fc7098ef82fe</td>\n",
       "      <td>53</td>\n",
       "      <td>56.01</td>\n",
       "      <td>21.89</td>\n",
       "    </tr>\n",
       "    <tr>\n",
       "      <th>1</th>\n",
       "      <td>datasets/gov/aaa/oro_stociu_matavimai/Averages</td>\n",
       "      <td>32f0fcf6-9bae-42e5-8fe7-45b69fec3115</td>\n",
       "      <td>d1f06dbf-7c48-414c-bd20-63483ec399f8</td>\n",
       "      <td>653958314</td>\n",
       "      <td>f7636a52-2e03-43da-83d9-a70a8bb41f7b</td>\n",
       "      <td>2023-01-14T02:00:00</td>\n",
       "      <td>906</td>\n",
       "      <td>991.37</td>\n",
       "      <td>1</td>\n",
       "      <td>2023-01-14 02:00:00</td>\n",
       "      <td>...</td>\n",
       "      <td>PRES</td>\n",
       "      <td>atm. pressure</td>\n",
       "      <td>meteo</td>\n",
       "      <td>9</td>\n",
       "      <td>datasets/gov/aaa/oro_stociu_matavimai/Station</td>\n",
       "      <td>f7636a52-2e03-43da-83d9-a70a8bb41f7b</td>\n",
       "      <td>295f1729-3f12-42d4-af54-56162c74a112</td>\n",
       "      <td>51</td>\n",
       "      <td>55.46</td>\n",
       "      <td>26.00</td>\n",
       "    </tr>\n",
       "    <tr>\n",
       "      <th>2</th>\n",
       "      <td>datasets/gov/aaa/oro_stociu_matavimai/Averages</td>\n",
       "      <td>12a28f39-cd4d-4d97-8268-5a88d2b449ba</td>\n",
       "      <td>dd70eb87-4a77-4227-8d21-2532ad8a24e1</td>\n",
       "      <td>653958468</td>\n",
       "      <td>f7636a52-2e03-43da-83d9-a70a8bb41f7b</td>\n",
       "      <td>2023-01-15T00:00:00</td>\n",
       "      <td>906</td>\n",
       "      <td>994.53</td>\n",
       "      <td>1</td>\n",
       "      <td>2023-01-15 00:00:00</td>\n",
       "      <td>...</td>\n",
       "      <td>PRES</td>\n",
       "      <td>atm. pressure</td>\n",
       "      <td>meteo</td>\n",
       "      <td>9</td>\n",
       "      <td>datasets/gov/aaa/oro_stociu_matavimai/Station</td>\n",
       "      <td>f7636a52-2e03-43da-83d9-a70a8bb41f7b</td>\n",
       "      <td>295f1729-3f12-42d4-af54-56162c74a112</td>\n",
       "      <td>51</td>\n",
       "      <td>55.46</td>\n",
       "      <td>26.00</td>\n",
       "    </tr>\n",
       "    <tr>\n",
       "      <th>3</th>\n",
       "      <td>datasets/gov/aaa/oro_stociu_matavimai/Averages</td>\n",
       "      <td>73a054c6-4d3e-482f-8597-569c4012165e</td>\n",
       "      <td>85af44b6-d331-4c2c-a668-d9f9d151e908</td>\n",
       "      <td>654441235</td>\n",
       "      <td>ef4fb1da-264d-42f8-893f-e9e3b1f6b2d9</td>\n",
       "      <td>2023-01-17T20:00:00</td>\n",
       "      <td>906</td>\n",
       "      <td>984.95</td>\n",
       "      <td>1</td>\n",
       "      <td>2023-01-17 20:00:00</td>\n",
       "      <td>...</td>\n",
       "      <td>PRES</td>\n",
       "      <td>atm. pressure</td>\n",
       "      <td>meteo</td>\n",
       "      <td>9</td>\n",
       "      <td>datasets/gov/aaa/oro_stociu_matavimai/Station</td>\n",
       "      <td>ef4fb1da-264d-42f8-893f-e9e3b1f6b2d9</td>\n",
       "      <td>aa4d9094-dcb2-488d-b6b6-97c128a9a4ff</td>\n",
       "      <td>52</td>\n",
       "      <td>54.09</td>\n",
       "      <td>24.29</td>\n",
       "    </tr>\n",
       "    <tr>\n",
       "      <th>4</th>\n",
       "      <td>datasets/gov/aaa/oro_stociu_matavimai/Averages</td>\n",
       "      <td>e5143f3c-88f0-496c-92cb-d246c80e34df</td>\n",
       "      <td>bcaafd70-904f-421d-b8de-aef39f7648ba</td>\n",
       "      <td>654774141</td>\n",
       "      <td>f15078a3-c648-4ef2-93eb-9d2e473fffba</td>\n",
       "      <td>2023-01-19T06:00:00</td>\n",
       "      <td>906</td>\n",
       "      <td>980.80</td>\n",
       "      <td>1</td>\n",
       "      <td>2023-01-19 06:00:00</td>\n",
       "      <td>...</td>\n",
       "      <td>PRES</td>\n",
       "      <td>atm. pressure</td>\n",
       "      <td>meteo</td>\n",
       "      <td>9</td>\n",
       "      <td>datasets/gov/aaa/oro_stociu_matavimai/Station</td>\n",
       "      <td>f15078a3-c648-4ef2-93eb-9d2e473fffba</td>\n",
       "      <td>051fab6f-10b2-4774-b65b-fc7098ef82fe</td>\n",
       "      <td>53</td>\n",
       "      <td>56.01</td>\n",
       "      <td>21.89</td>\n",
       "    </tr>\n",
       "    <tr>\n",
       "      <th>...</th>\n",
       "      <td>...</td>\n",
       "      <td>...</td>\n",
       "      <td>...</td>\n",
       "      <td>...</td>\n",
       "      <td>...</td>\n",
       "      <td>...</td>\n",
       "      <td>...</td>\n",
       "      <td>...</td>\n",
       "      <td>...</td>\n",
       "      <td>...</td>\n",
       "      <td>...</td>\n",
       "      <td>...</td>\n",
       "      <td>...</td>\n",
       "      <td>...</td>\n",
       "      <td>...</td>\n",
       "      <td>...</td>\n",
       "      <td>...</td>\n",
       "      <td>...</td>\n",
       "      <td>...</td>\n",
       "      <td>...</td>\n",
       "      <td>...</td>\n",
       "    </tr>\n",
       "    <tr>\n",
       "      <th>15647</th>\n",
       "      <td>datasets/gov/aaa/oro_stociu_matavimai/Averages</td>\n",
       "      <td>32a05967-e722-4a82-9036-c0dab572d66d</td>\n",
       "      <td>a7223c28-2956-4a8c-a2cb-92976c6b81bc</td>\n",
       "      <td>680802328</td>\n",
       "      <td>f7636a52-2e03-43da-83d9-a70a8bb41f7b</td>\n",
       "      <td>2023-10-10T11:00:00</td>\n",
       "      <td>906</td>\n",
       "      <td>999.80</td>\n",
       "      <td>1</td>\n",
       "      <td>2023-10-10 11:00:00</td>\n",
       "      <td>...</td>\n",
       "      <td>PRES</td>\n",
       "      <td>atm. pressure</td>\n",
       "      <td>meteo</td>\n",
       "      <td>9</td>\n",
       "      <td>datasets/gov/aaa/oro_stociu_matavimai/Station</td>\n",
       "      <td>f7636a52-2e03-43da-83d9-a70a8bb41f7b</td>\n",
       "      <td>295f1729-3f12-42d4-af54-56162c74a112</td>\n",
       "      <td>51</td>\n",
       "      <td>55.46</td>\n",
       "      <td>26.00</td>\n",
       "    </tr>\n",
       "    <tr>\n",
       "      <th>15648</th>\n",
       "      <td>datasets/gov/aaa/oro_stociu_matavimai/Averages</td>\n",
       "      <td>3de84c66-55ab-4b06-a907-db0d554b2a03</td>\n",
       "      <td>0637591a-5701-4f18-b3d7-ec928af6581f</td>\n",
       "      <td>680802335</td>\n",
       "      <td>f7636a52-2e03-43da-83d9-a70a8bb41f7b</td>\n",
       "      <td>2023-10-10T12:00:00</td>\n",
       "      <td>906</td>\n",
       "      <td>1000.00</td>\n",
       "      <td>1</td>\n",
       "      <td>2023-10-10 12:00:00</td>\n",
       "      <td>...</td>\n",
       "      <td>PRES</td>\n",
       "      <td>atm. pressure</td>\n",
       "      <td>meteo</td>\n",
       "      <td>9</td>\n",
       "      <td>datasets/gov/aaa/oro_stociu_matavimai/Station</td>\n",
       "      <td>f7636a52-2e03-43da-83d9-a70a8bb41f7b</td>\n",
       "      <td>295f1729-3f12-42d4-af54-56162c74a112</td>\n",
       "      <td>51</td>\n",
       "      <td>55.46</td>\n",
       "      <td>26.00</td>\n",
       "    </tr>\n",
       "    <tr>\n",
       "      <th>15649</th>\n",
       "      <td>datasets/gov/aaa/oro_stociu_matavimai/Averages</td>\n",
       "      <td>d85fb434-9679-4605-86c3-72e289343ce4</td>\n",
       "      <td>7c3aad47-a599-461f-82ac-fe8ba6b5cf14</td>\n",
       "      <td>680802363</td>\n",
       "      <td>f7636a52-2e03-43da-83d9-a70a8bb41f7b</td>\n",
       "      <td>2023-10-10T16:00:00</td>\n",
       "      <td>906</td>\n",
       "      <td>1000.18</td>\n",
       "      <td>1</td>\n",
       "      <td>2023-10-10 16:00:00</td>\n",
       "      <td>...</td>\n",
       "      <td>PRES</td>\n",
       "      <td>atm. pressure</td>\n",
       "      <td>meteo</td>\n",
       "      <td>9</td>\n",
       "      <td>datasets/gov/aaa/oro_stociu_matavimai/Station</td>\n",
       "      <td>f7636a52-2e03-43da-83d9-a70a8bb41f7b</td>\n",
       "      <td>295f1729-3f12-42d4-af54-56162c74a112</td>\n",
       "      <td>51</td>\n",
       "      <td>55.46</td>\n",
       "      <td>26.00</td>\n",
       "    </tr>\n",
       "    <tr>\n",
       "      <th>15650</th>\n",
       "      <td>datasets/gov/aaa/oro_stociu_matavimai/Averages</td>\n",
       "      <td>a143a44a-e64c-4ba9-8412-1d10650a8008</td>\n",
       "      <td>c088e072-c0f6-45ef-ae84-07e8d4c2d896</td>\n",
       "      <td>680802370</td>\n",
       "      <td>f7636a52-2e03-43da-83d9-a70a8bb41f7b</td>\n",
       "      <td>2023-10-10T17:00:00</td>\n",
       "      <td>906</td>\n",
       "      <td>1000.02</td>\n",
       "      <td>1</td>\n",
       "      <td>2023-10-10 17:00:00</td>\n",
       "      <td>...</td>\n",
       "      <td>PRES</td>\n",
       "      <td>atm. pressure</td>\n",
       "      <td>meteo</td>\n",
       "      <td>9</td>\n",
       "      <td>datasets/gov/aaa/oro_stociu_matavimai/Station</td>\n",
       "      <td>f7636a52-2e03-43da-83d9-a70a8bb41f7b</td>\n",
       "      <td>295f1729-3f12-42d4-af54-56162c74a112</td>\n",
       "      <td>51</td>\n",
       "      <td>55.46</td>\n",
       "      <td>26.00</td>\n",
       "    </tr>\n",
       "    <tr>\n",
       "      <th>15651</th>\n",
       "      <td>datasets/gov/aaa/oro_stociu_matavimai/Averages</td>\n",
       "      <td>c4dc1d6d-6e97-4a9e-90a5-25184df83acd</td>\n",
       "      <td>5395f73a-a30d-4a64-b06e-c5dba3603505</td>\n",
       "      <td>680835004</td>\n",
       "      <td>ef4fb1da-264d-42f8-893f-e9e3b1f6b2d9</td>\n",
       "      <td>2023-10-11T08:00:00</td>\n",
       "      <td>906</td>\n",
       "      <td>1007.40</td>\n",
       "      <td>1</td>\n",
       "      <td>2023-10-11 08:00:00</td>\n",
       "      <td>...</td>\n",
       "      <td>PRES</td>\n",
       "      <td>atm. pressure</td>\n",
       "      <td>meteo</td>\n",
       "      <td>9</td>\n",
       "      <td>datasets/gov/aaa/oro_stociu_matavimai/Station</td>\n",
       "      <td>ef4fb1da-264d-42f8-893f-e9e3b1f6b2d9</td>\n",
       "      <td>aa4d9094-dcb2-488d-b6b6-97c128a9a4ff</td>\n",
       "      <td>52</td>\n",
       "      <td>54.09</td>\n",
       "      <td>24.29</td>\n",
       "    </tr>\n",
       "  </tbody>\n",
       "</table>\n",
       "<p>15652 rows × 33 columns</p>\n",
       "</div>"
      ],
      "text/plain": [
       "                                              _type_x  \\\n",
       "0      datasets/gov/aaa/oro_stociu_matavimai/Averages   \n",
       "1      datasets/gov/aaa/oro_stociu_matavimai/Averages   \n",
       "2      datasets/gov/aaa/oro_stociu_matavimai/Averages   \n",
       "3      datasets/gov/aaa/oro_stociu_matavimai/Averages   \n",
       "4      datasets/gov/aaa/oro_stociu_matavimai/Averages   \n",
       "...                                               ...   \n",
       "15647  datasets/gov/aaa/oro_stociu_matavimai/Averages   \n",
       "15648  datasets/gov/aaa/oro_stociu_matavimai/Averages   \n",
       "15649  datasets/gov/aaa/oro_stociu_matavimai/Averages   \n",
       "15650  datasets/gov/aaa/oro_stociu_matavimai/Averages   \n",
       "15651  datasets/gov/aaa/oro_stociu_matavimai/Averages   \n",
       "\n",
       "                                      _id_x  \\\n",
       "0      6081a1af-d3d7-46ff-a83e-e0da6e5191f3   \n",
       "1      32f0fcf6-9bae-42e5-8fe7-45b69fec3115   \n",
       "2      12a28f39-cd4d-4d97-8268-5a88d2b449ba   \n",
       "3      73a054c6-4d3e-482f-8597-569c4012165e   \n",
       "4      e5143f3c-88f0-496c-92cb-d246c80e34df   \n",
       "...                                     ...   \n",
       "15647  32a05967-e722-4a82-9036-c0dab572d66d   \n",
       "15648  3de84c66-55ab-4b06-a907-db0d554b2a03   \n",
       "15649  d85fb434-9679-4605-86c3-72e289343ce4   \n",
       "15650  a143a44a-e64c-4ba9-8412-1d10650a8008   \n",
       "15651  c4dc1d6d-6e97-4a9e-90a5-25184df83acd   \n",
       "\n",
       "                                _revision_x       id_x  \\\n",
       "0      02655ba4-e7ee-47d5-814d-683b1821ab15  652315134   \n",
       "1      d1f06dbf-7c48-414c-bd20-63483ec399f8  653958314   \n",
       "2      dd70eb87-4a77-4227-8d21-2532ad8a24e1  653958468   \n",
       "3      85af44b6-d331-4c2c-a668-d9f9d151e908  654441235   \n",
       "4      bcaafd70-904f-421d-b8de-aef39f7648ba  654774141   \n",
       "...                                     ...        ...   \n",
       "15647  a7223c28-2956-4a8c-a2cb-92976c6b81bc  680802328   \n",
       "15648  0637591a-5701-4f18-b3d7-ec928af6581f  680802335   \n",
       "15649  7c3aad47-a599-461f-82ac-fe8ba6b5cf14  680802363   \n",
       "15650  c088e072-c0f6-45ef-ae84-07e8d4c2d896  680802370   \n",
       "15651  5395f73a-a30d-4a64-b06e-c5dba3603505  680835004   \n",
       "\n",
       "                               stat_num._id            ldatetime  code_combi  \\\n",
       "0      f15078a3-c648-4ef2-93eb-9d2e473fffba  2023-01-04T21:00:00         906   \n",
       "1      f7636a52-2e03-43da-83d9-a70a8bb41f7b  2023-01-14T02:00:00         906   \n",
       "2      f7636a52-2e03-43da-83d9-a70a8bb41f7b  2023-01-15T00:00:00         906   \n",
       "3      ef4fb1da-264d-42f8-893f-e9e3b1f6b2d9  2023-01-17T20:00:00         906   \n",
       "4      f15078a3-c648-4ef2-93eb-9d2e473fffba  2023-01-19T06:00:00         906   \n",
       "...                                     ...                  ...         ...   \n",
       "15647  f7636a52-2e03-43da-83d9-a70a8bb41f7b  2023-10-10T11:00:00         906   \n",
       "15648  f7636a52-2e03-43da-83d9-a70a8bb41f7b  2023-10-10T12:00:00         906   \n",
       "15649  f7636a52-2e03-43da-83d9-a70a8bb41f7b  2023-10-10T16:00:00         906   \n",
       "15650  f7636a52-2e03-43da-83d9-a70a8bb41f7b  2023-10-10T17:00:00         906   \n",
       "15651  ef4fb1da-264d-42f8-893f-e9e3b1f6b2d9  2023-10-11T08:00:00         906   \n",
       "\n",
       "          lvalue  atribut            datetime  ... shortname       longname  \\\n",
       "0         984.48        1 2023-01-04 21:00:00  ...      PRES  atm. pressure   \n",
       "1         991.37        1 2023-01-14 02:00:00  ...      PRES  atm. pressure   \n",
       "2         994.53        1 2023-01-15 00:00:00  ...      PRES  atm. pressure   \n",
       "3         984.95        1 2023-01-17 20:00:00  ...      PRES  atm. pressure   \n",
       "4         980.80        1 2023-01-19 06:00:00  ...      PRES  atm. pressure   \n",
       "...          ...      ...                 ...  ...       ...            ...   \n",
       "15647     999.80        1 2023-10-10 11:00:00  ...      PRES  atm. pressure   \n",
       "15648    1000.00        1 2023-10-10 12:00:00  ...      PRES  atm. pressure   \n",
       "15649    1000.18        1 2023-10-10 16:00:00  ...      PRES  atm. pressure   \n",
       "15650    1000.02        1 2023-10-10 17:00:00  ...      PRES  atm. pressure   \n",
       "15651    1007.40        1 2023-10-11 08:00:00  ...      PRES  atm. pressure   \n",
       "\n",
       "      attrib id_y                                       _type_yy  \\\n",
       "0      meteo    9  datasets/gov/aaa/oro_stociu_matavimai/Station   \n",
       "1      meteo    9  datasets/gov/aaa/oro_stociu_matavimai/Station   \n",
       "2      meteo    9  datasets/gov/aaa/oro_stociu_matavimai/Station   \n",
       "3      meteo    9  datasets/gov/aaa/oro_stociu_matavimai/Station   \n",
       "4      meteo    9  datasets/gov/aaa/oro_stociu_matavimai/Station   \n",
       "...      ...  ...                                            ...   \n",
       "15647  meteo    9  datasets/gov/aaa/oro_stociu_matavimai/Station   \n",
       "15648  meteo    9  datasets/gov/aaa/oro_stociu_matavimai/Station   \n",
       "15649  meteo    9  datasets/gov/aaa/oro_stociu_matavimai/Station   \n",
       "15650  meteo    9  datasets/gov/aaa/oro_stociu_matavimai/Station   \n",
       "15651  meteo    9  datasets/gov/aaa/oro_stociu_matavimai/Station   \n",
       "\n",
       "                                     _id_yy  \\\n",
       "0      f15078a3-c648-4ef2-93eb-9d2e473fffba   \n",
       "1      f7636a52-2e03-43da-83d9-a70a8bb41f7b   \n",
       "2      f7636a52-2e03-43da-83d9-a70a8bb41f7b   \n",
       "3      ef4fb1da-264d-42f8-893f-e9e3b1f6b2d9   \n",
       "4      f15078a3-c648-4ef2-93eb-9d2e473fffba   \n",
       "...                                     ...   \n",
       "15647  f7636a52-2e03-43da-83d9-a70a8bb41f7b   \n",
       "15648  f7636a52-2e03-43da-83d9-a70a8bb41f7b   \n",
       "15649  f7636a52-2e03-43da-83d9-a70a8bb41f7b   \n",
       "15650  f7636a52-2e03-43da-83d9-a70a8bb41f7b   \n",
       "15651  ef4fb1da-264d-42f8-893f-e9e3b1f6b2d9   \n",
       "\n",
       "                               _revision_yy  stat_num   latitude  longitude  \n",
       "0      051fab6f-10b2-4774-b65b-fc7098ef82fe        53      56.01      21.89  \n",
       "1      295f1729-3f12-42d4-af54-56162c74a112        51      55.46      26.00  \n",
       "2      295f1729-3f12-42d4-af54-56162c74a112        51      55.46      26.00  \n",
       "3      aa4d9094-dcb2-488d-b6b6-97c128a9a4ff        52      54.09      24.29  \n",
       "4      051fab6f-10b2-4774-b65b-fc7098ef82fe        53      56.01      21.89  \n",
       "...                                     ...       ...        ...        ...  \n",
       "15647  295f1729-3f12-42d4-af54-56162c74a112        51      55.46      26.00  \n",
       "15648  295f1729-3f12-42d4-af54-56162c74a112        51      55.46      26.00  \n",
       "15649  295f1729-3f12-42d4-af54-56162c74a112        51      55.46      26.00  \n",
       "15650  295f1729-3f12-42d4-af54-56162c74a112        51      55.46      26.00  \n",
       "15651  aa4d9094-dcb2-488d-b6b6-97c128a9a4ff        52      54.09      24.29  \n",
       "\n",
       "[15652 rows x 33 columns]"
      ]
     },
     "execution_count": 197,
     "metadata": {},
     "output_type": "execute_result"
    }
   ],
   "source": [
    "data_station['stat_num._id'] = data_station['_id']\n",
    "data = data.merge(data_station,how='left', on = 'stat_num._id',suffixes=('_xx', '_yy'))\n",
    "data"
   ]
  },
  {
   "cell_type": "code",
   "execution_count": 198,
   "metadata": {
    "pycharm": {
     "name": "#%%\n"
    }
   },
   "outputs": [
    {
     "name": "stdout",
     "output_type": "stream",
     "text": [
      "\u001B[1m % mean in test sample: target \u001B[34m953.93\u001B[0m\n"
     ]
    },
    {
     "data": {
      "image/png": "[encoded data removed]",
      "text/plain": [
       "<Figure size 640x480 with 1 Axes>"
      ]
     },
     "metadata": {
      "image/png": {
       "height": 457,
       "width": 584
      }
     },
     "output_type": "display_data"
    }
   ],
   "source": [
    "#**Проверка на логичность**\n",
    "print(bold(),\"% mean in test sample: target\",colored(round(data['lvalue'].mean(),2),'blue'))\n",
    "\n",
    "data['lvalue'].hist(bins = 50, alpha=0.5, density=True)\n",
    "\n",
    "plt.xlabel('Температура нагрева')\n",
    "plt.ylabel('Плотность распределения')\n",
    "plt.title('Распределение на тестовой выборке', fontsize=15) \n",
    "plt.legend(['Таргет', 'Предсказания'])\n",
    "plt.show()"
   ]
  },
  {
   "cell_type": "code",
   "execution_count": 199,
   "metadata": {
    "pycharm": {
     "name": "#%%\n"
    }
   },
   "outputs": [
    {
     "data": {
      "text/plain": [
       "968.391015625015"
      ]
     },
     "execution_count": 199,
     "metadata": {},
     "output_type": "execute_result"
    }
   ],
   "source": [
    "data['lvalue'].quantile(0.05)"
   ]
  },
  {
   "cell_type": "code",
   "execution_count": 200,
   "metadata": {
    "pycharm": {
     "name": "#%%\n"
    }
   },
   "outputs": [
    {
     "data": {
      "text/plain": [
       "1017.1744873047201"
      ]
     },
     "execution_count": 200,
     "metadata": {},
     "output_type": "execute_result"
    }
   ],
   "source": [
    "data['lvalue'].quantile(0.95)"
   ]
  },
  {
   "cell_type": "code",
   "execution_count": 201,
   "metadata": {
    "pycharm": {
     "name": "#%%\n"
    }
   },
   "outputs": [],
   "source": [
    "data = data[data['lvalue'] > 968]\n",
    "#data = data[data['lvalue'] < 1017]"
   ]
  },
  {
   "cell_type": "code",
   "execution_count": 202,
   "metadata": {
    "pycharm": {
     "name": "#%%\n"
    }
   },
   "outputs": [
    {
     "name": "stdout",
     "output_type": "stream",
     "text": [
      "\u001B[1m % mean in test sample: target \u001B[34m999.46\u001B[0m\n"
     ]
    },
    {
     "data": {
      "image/png": "[encoded data removed]",
      "text/plain": [
       "<Figure size 640x480 with 1 Axes>"
      ]
     },
     "metadata": {
      "image/png": {
       "height": 457,
       "width": 594
      }
     },
     "output_type": "display_data"
    }
   ],
   "source": [
    "#**Проверка на логичность**\n",
    "print(bold(),\"% mean in test sample: target\",colored(round(data['lvalue'].mean(),2),'blue'))\n",
    "\n",
    "data['lvalue'].hist(bins = 50, alpha=0.5, density=True)\n",
    "\n",
    "plt.xlabel('Температура нагрева')\n",
    "plt.ylabel('Плотность распределения')\n",
    "plt.title('Распределение на тестовой выборке', fontsize=15) \n",
    "plt.legend(['Таргет'])\n",
    "plt.show()"
   ]
  },
  {
   "cell_type": "code",
   "execution_count": 203,
   "metadata": {
    "pycharm": {
     "name": "#%%\n"
    }
   },
   "outputs": [],
   "source": [
    "#data = data[['lvalue','stat_num','code_quantity._id','year','month','weekday','day','latitude','longitude']]\n",
    "data = data[['lvalue','stat_num','year','month','weekday','day','latitude','longitude']]"
   ]
  },
  {
   "cell_type": "code",
   "execution_count": 204,
   "metadata": {
    "pycharm": {
     "name": "#%%\n"
    }
   },
   "outputs": [
    {
     "data": {
      "text/html": [
       "<div>\n",
       "<style scoped>\n",
       "    .dataframe tbody tr th:only-of-type {\n",
       "        vertical-align: middle;\n",
       "    }\n",
       "\n",
       "    .dataframe tbody tr th {\n",
       "        vertical-align: top;\n",
       "    }\n",
       "\n",
       "    .dataframe thead th {\n",
       "        text-align: right;\n",
       "    }\n",
       "</style>\n",
       "<table border=\"1\" class=\"dataframe\">\n",
       "  <thead>\n",
       "    <tr style=\"text-align: right;\">\n",
       "      <th></th>\n",
       "      <th>lvalue</th>\n",
       "      <th>stat_num</th>\n",
       "      <th>year</th>\n",
       "      <th>month</th>\n",
       "      <th>weekday</th>\n",
       "      <th>day</th>\n",
       "      <th>latitude</th>\n",
       "      <th>longitude</th>\n",
       "    </tr>\n",
       "  </thead>\n",
       "  <tbody>\n",
       "    <tr>\n",
       "      <th>lvalue</th>\n",
       "      <td>1.00</td>\n",
       "      <td>-0.02</td>\n",
       "      <td>NaN</td>\n",
       "      <td>0.08</td>\n",
       "      <td>-0.03</td>\n",
       "      <td>-0.09</td>\n",
       "      <td>-0.42</td>\n",
       "      <td>0.04</td>\n",
       "    </tr>\n",
       "    <tr>\n",
       "      <th>stat_num</th>\n",
       "      <td>-0.02</td>\n",
       "      <td>1.00</td>\n",
       "      <td>NaN</td>\n",
       "      <td>-0.09</td>\n",
       "      <td>-0.01</td>\n",
       "      <td>0.02</td>\n",
       "      <td>0.07</td>\n",
       "      <td>-0.20</td>\n",
       "    </tr>\n",
       "    <tr>\n",
       "      <th>year</th>\n",
       "      <td>NaN</td>\n",
       "      <td>NaN</td>\n",
       "      <td>NaN</td>\n",
       "      <td>NaN</td>\n",
       "      <td>NaN</td>\n",
       "      <td>NaN</td>\n",
       "      <td>NaN</td>\n",
       "      <td>NaN</td>\n",
       "    </tr>\n",
       "    <tr>\n",
       "      <th>month</th>\n",
       "      <td>0.08</td>\n",
       "      <td>-0.09</td>\n",
       "      <td>NaN</td>\n",
       "      <td>1.00</td>\n",
       "      <td>-0.04</td>\n",
       "      <td>-0.05</td>\n",
       "      <td>-0.10</td>\n",
       "      <td>0.18</td>\n",
       "    </tr>\n",
       "    <tr>\n",
       "      <th>weekday</th>\n",
       "      <td>-0.03</td>\n",
       "      <td>-0.01</td>\n",
       "      <td>NaN</td>\n",
       "      <td>-0.04</td>\n",
       "      <td>1.00</td>\n",
       "      <td>-0.02</td>\n",
       "      <td>-0.00</td>\n",
       "      <td>0.00</td>\n",
       "    </tr>\n",
       "    <tr>\n",
       "      <th>day</th>\n",
       "      <td>-0.09</td>\n",
       "      <td>0.02</td>\n",
       "      <td>NaN</td>\n",
       "      <td>-0.05</td>\n",
       "      <td>-0.02</td>\n",
       "      <td>1.00</td>\n",
       "      <td>-0.02</td>\n",
       "      <td>-0.01</td>\n",
       "    </tr>\n",
       "    <tr>\n",
       "      <th>latitude</th>\n",
       "      <td>-0.42</td>\n",
       "      <td>0.07</td>\n",
       "      <td>NaN</td>\n",
       "      <td>-0.10</td>\n",
       "      <td>-0.00</td>\n",
       "      <td>-0.02</td>\n",
       "      <td>1.00</td>\n",
       "      <td>-0.30</td>\n",
       "    </tr>\n",
       "    <tr>\n",
       "      <th>longitude</th>\n",
       "      <td>0.04</td>\n",
       "      <td>-0.20</td>\n",
       "      <td>NaN</td>\n",
       "      <td>0.18</td>\n",
       "      <td>0.00</td>\n",
       "      <td>-0.01</td>\n",
       "      <td>-0.30</td>\n",
       "      <td>1.00</td>\n",
       "    </tr>\n",
       "  </tbody>\n",
       "</table>\n",
       "</div>"
      ],
      "text/plain": [
       "              lvalue   stat_num  year      month    weekday        day  \\\n",
       "lvalue          1.00      -0.02   NaN       0.08      -0.03      -0.09   \n",
       "stat_num       -0.02       1.00   NaN      -0.09      -0.01       0.02   \n",
       "year             NaN        NaN   NaN        NaN        NaN        NaN   \n",
       "month           0.08      -0.09   NaN       1.00      -0.04      -0.05   \n",
       "weekday        -0.03      -0.01   NaN      -0.04       1.00      -0.02   \n",
       "day            -0.09       0.02   NaN      -0.05      -0.02       1.00   \n",
       "latitude       -0.42       0.07   NaN      -0.10      -0.00      -0.02   \n",
       "longitude       0.04      -0.20   NaN       0.18       0.00      -0.01   \n",
       "\n",
       "            latitude  longitude  \n",
       "lvalue         -0.42       0.04  \n",
       "stat_num        0.07      -0.20  \n",
       "year             NaN        NaN  \n",
       "month          -0.10       0.18  \n",
       "weekday        -0.00       0.00  \n",
       "day            -0.02      -0.01  \n",
       "latitude        1.00      -0.30  \n",
       "longitude      -0.30       1.00  "
      ]
     },
     "execution_count": 204,
     "metadata": {},
     "output_type": "execute_result"
    }
   ],
   "source": [
    "data[['lvalue','stat_num','year','month','weekday','day','latitude','longitude']].corr()"
   ]
  },
  {
   "cell_type": "code",
   "execution_count": 205,
   "metadata": {},
   "outputs": [],
   "source": [
    "data['stat_num'] = data.stat_num.astype('str')"
   ]
  },
  {
   "cell_type": "code",
   "execution_count": 206,
   "metadata": {
    "pycharm": {
     "name": "#%%\n"
    }
   },
   "outputs": [
    {
     "name": "stdout",
     "output_type": "stream",
     "text": [
      "\n",
      " \u001B[1m \u001B[32minfo\u001B[0m \u001B[0m \n",
      "\n",
      "<class 'pandas.core.frame.DataFrame'>\n",
      "Index: 14874 entries, 0 to 15651\n",
      "Data columns (total 8 columns):\n",
      " #   Column     Non-Null Count  Dtype  \n",
      "---  ------     --------------  -----  \n",
      " 0   lvalue     14874 non-null  float64\n",
      " 1   stat_num   14874 non-null  object \n",
      " 2   year       14874 non-null  int32  \n",
      " 3   month      14874 non-null  int32  \n",
      " 4   weekday    14874 non-null  int32  \n",
      " 5   day        14874 non-null  int32  \n",
      " 6   latitude   14854 non-null  float64\n",
      " 7   longitude  14854 non-null  float64\n",
      "dtypes: float64(3), int32(4), object(1)\n",
      "memory usage: 813.4+ KB\n",
      "None\n",
      "\n",
      " \u001B[1m \u001B[32mhead\u001B[0m \u001B[0m\n"
     ]
    },
    {
     "data": {
      "text/html": [
       "<div>\n",
       "<style scoped>\n",
       "    .dataframe tbody tr th:only-of-type {\n",
       "        vertical-align: middle;\n",
       "    }\n",
       "\n",
       "    .dataframe tbody tr th {\n",
       "        vertical-align: top;\n",
       "    }\n",
       "\n",
       "    .dataframe thead th {\n",
       "        text-align: right;\n",
       "    }\n",
       "</style>\n",
       "<table border=\"1\" class=\"dataframe\">\n",
       "  <thead>\n",
       "    <tr style=\"text-align: right;\">\n",
       "      <th></th>\n",
       "      <th>lvalue</th>\n",
       "      <th>stat_num</th>\n",
       "      <th>year</th>\n",
       "      <th>month</th>\n",
       "      <th>weekday</th>\n",
       "      <th>day</th>\n",
       "      <th>latitude</th>\n",
       "      <th>longitude</th>\n",
       "    </tr>\n",
       "  </thead>\n",
       "  <tbody>\n",
       "    <tr>\n",
       "      <th>0</th>\n",
       "      <td>984.48</td>\n",
       "      <td>53</td>\n",
       "      <td>2023</td>\n",
       "      <td>1</td>\n",
       "      <td>2</td>\n",
       "      <td>4</td>\n",
       "      <td>56.01</td>\n",
       "      <td>21.89</td>\n",
       "    </tr>\n",
       "    <tr>\n",
       "      <th>1</th>\n",
       "      <td>991.37</td>\n",
       "      <td>51</td>\n",
       "      <td>2023</td>\n",
       "      <td>1</td>\n",
       "      <td>5</td>\n",
       "      <td>14</td>\n",
       "      <td>55.46</td>\n",
       "      <td>26.00</td>\n",
       "    </tr>\n",
       "    <tr>\n",
       "      <th>2</th>\n",
       "      <td>994.53</td>\n",
       "      <td>51</td>\n",
       "      <td>2023</td>\n",
       "      <td>1</td>\n",
       "      <td>6</td>\n",
       "      <td>15</td>\n",
       "      <td>55.46</td>\n",
       "      <td>26.00</td>\n",
       "    </tr>\n",
       "    <tr>\n",
       "      <th>3</th>\n",
       "      <td>984.95</td>\n",
       "      <td>52</td>\n",
       "      <td>2023</td>\n",
       "      <td>1</td>\n",
       "      <td>1</td>\n",
       "      <td>17</td>\n",
       "      <td>54.09</td>\n",
       "      <td>24.29</td>\n",
       "    </tr>\n",
       "    <tr>\n",
       "      <th>4</th>\n",
       "      <td>980.80</td>\n",
       "      <td>53</td>\n",
       "      <td>2023</td>\n",
       "      <td>1</td>\n",
       "      <td>3</td>\n",
       "      <td>19</td>\n",
       "      <td>56.01</td>\n",
       "      <td>21.89</td>\n",
       "    </tr>\n",
       "  </tbody>\n",
       "</table>\n",
       "</div>"
      ],
      "text/plain": [
       "      lvalue stat_num  year  month  weekday  day   latitude  longitude\n",
       "0     984.48       53  2023      1        2    4      56.01      21.89\n",
       "1     991.37       51  2023      1        5   14      55.46      26.00\n",
       "2     994.53       51  2023      1        6   15      55.46      26.00\n",
       "3     984.95       52  2023      1        1   17      54.09      24.29\n",
       "4     980.80       53  2023      1        3   19      56.01      21.89"
      ]
     },
     "metadata": {},
     "output_type": "display_data"
    },
    {
     "name": "stdout",
     "output_type": "stream",
     "text": [
      "\n",
      " \u001B[1m \u001B[32mdescribe\u001B[0m \u001B[0m \n",
      "\n",
      "\n",
      " \u001B[1m \u001B[34mlvalue\u001B[0m \u001B[0m \n",
      " count     14874.00\n",
      "mean        999.46\n",
      "std          11.58\n",
      "min         968.13\n",
      "25%         991.70\n",
      "50%        1000.09\n",
      "75%        1007.37\n",
      "max        1037.74\n",
      "Name: lvalue, dtype: float64\n",
      "\n",
      " \u001B[1m \u001B[34mstat_num\u001B[0m \u001B[0m \n",
      " count     14874\n",
      "unique       18\n",
      "top          52\n",
      "freq       5319\n",
      "Name: stat_num, dtype: object\n",
      "\n",
      " \u001B[1m \u001B[34myear\u001B[0m \u001B[0m \n",
      " count     14874.00\n",
      "mean       2023.00\n",
      "std           0.00\n",
      "min        2023.00\n",
      "25%        2023.00\n",
      "50%        2023.00\n",
      "75%        2023.00\n",
      "max        2023.00\n",
      "Name: year, dtype: float64\n",
      "\n",
      " \u001B[1m \u001B[34mmonth\u001B[0m \u001B[0m \n",
      " count     14874.00\n",
      "mean          4.51\n",
      "std           2.62\n",
      "min           1.00\n",
      "25%           2.00\n",
      "50%           4.00\n",
      "75%           7.00\n",
      "max          10.00\n",
      "Name: month, dtype: float64\n",
      "\n",
      " \u001B[1m \u001B[34mweekday\u001B[0m \u001B[0m \n",
      " count     14874.00\n",
      "mean          2.87\n",
      "std           2.02\n",
      "min           0.00\n",
      "25%           1.00\n",
      "50%           3.00\n",
      "75%           5.00\n",
      "max           6.00\n",
      "Name: weekday, dtype: float64\n",
      "\n",
      " \u001B[1m \u001B[34mday\u001B[0m \u001B[0m \n",
      " count     14874.00\n",
      "mean         15.04\n",
      "std           8.45\n",
      "min           1.00\n",
      "25%           8.00\n",
      "50%          14.00\n",
      "75%          22.00\n",
      "max          31.00\n",
      "Name: day, dtype: float64\n",
      "\n",
      " \u001B[1m \u001B[34mlatitude\u001B[0m \u001B[0m \n",
      " count     14854.00\n",
      "mean         55.11\n",
      "std           0.80\n",
      "min          54.09\n",
      "25%          54.09\n",
      "50%          55.46\n",
      "75%          56.01\n",
      "max          56.32\n",
      "Name: latitude, dtype: float64\n",
      "\n",
      " \u001B[1m \u001B[34mlongitude\u001B[0m \u001B[0m \n",
      " count     14854.00\n",
      "mean         24.23\n",
      "std           1.62\n",
      "min          21.14\n",
      "25%          21.89\n",
      "50%          24.29\n",
      "75%          26.00\n",
      "max          26.00\n",
      "Name: longitude, dtype: float64\n",
      "\n",
      " \u001B[1m \u001B[32mduplicated\u001B[0m \u001B[0m \n",
      "\n",
      "433\n"
     ]
    }
   ],
   "source": [
    "print_basic_info(data,1,1,1,5)"
   ]
  },
  {
   "cell_type": "code",
   "execution_count": 207,
   "metadata": {
    "pycharm": {
     "name": "#%%\n"
    }
   },
   "outputs": [],
   "source": [
    "data = data.drop_duplicates()"
   ]
  },
  {
   "cell_type": "markdown",
   "metadata": {
    "pycharm": {
     "name": "#%% md\n"
    }
   },
   "source": [
    "### Preparing data for the model\n",
    "<a name=\"11.\"></a>\n",
    "[<font size=\"2\">(to the content)</font>](#1common.)\n",
    "\n",
    "* Dividing the date set into test and training/validation."
   ]
  },
  {
   "cell_type": "code",
   "execution_count": 208,
   "metadata": {
    "pycharm": {
     "name": "#%%\n"
    }
   },
   "outputs": [],
   "source": [
    "#выделим таргет\n",
    "features, target = data.drop(['lvalue'], axis=1), data['lvalue']\n",
    "features = features.fillna(0)\n",
    "\n",
    "#разбиваем на train и тест (25%)\n",
    "features_train, features_test, target_train, target_test = train_test_split(features, target, \n",
    "                                                                            test_size=0.10, shuffle=False\n",
    "                                                                           )"
   ]
  },
  {
   "cell_type": "markdown",
   "metadata": {
    "pycharm": {
     "name": "#%% md\n"
    }
   },
   "source": [
    "<!-- # #Масштабируем признаки\n",
    "# numeric = features_train.columns\n",
    "\n",
    "# scaler = StandardScaler()\n",
    "# scaler.fit(features_train[numeric])\n",
    "\n",
    "# features_train[numeric] = scaler.transform(features_train[numeric])\n",
    "# features_test[numeric] = scaler.transform(features_test[numeric])\n",
    "\n",
    "# display(features_train.head())\n",
    "\n",
    "# from sklearn.cluster import KMeans\n",
    "\n",
    "\n",
    "# clustering = KMeans(n_clusters=5, random_state=515093).fit(features_train)\n",
    "\n",
    "# features_train['clustering'] = clustering.predict(features_train)\n",
    "# features_test['clustering'] = clustering.predict(features_test) -->\n",
    "Посмотрим сколько осталось нетипичных случаев"
   ]
  },
  {
   "cell_type": "code",
   "execution_count": 209,
   "metadata": {
    "pycharm": {
     "name": "#%%\n"
    }
   },
   "outputs": [],
   "source": [
    "scaler = MinMaxScaler()\n",
    "\n",
    "scaler.fit(asarray(features_train[['latitude','longitude']]))\n",
    "\n",
    "features_train[['latitude','longitude']] = scaler.transform(asarray(features_train[['latitude','longitude']]))\n",
    "features_test[['latitude','longitude']] = scaler.transform(asarray(features_test[['latitude','longitude']]))"
   ]
  },
  {
   "cell_type": "code",
   "execution_count": 210,
   "metadata": {
    "pycharm": {
     "name": "#%%\n"
    }
   },
   "outputs": [],
   "source": [
    "train_dicts = features_train.to_dict(orient='records')\n",
    "val_test = features_test.to_dict(orient='records')\n",
    "\n",
    "dv = DictVectorizer(sparse=False)\n",
    "X_train = dv.fit_transform(train_dicts)\n",
    "X_test = dv.transform(val_test)"
   ]
  },
  {
   "cell_type": "markdown",
   "metadata": {
    "pycharm": {
     "name": "#%% md\n"
    }
   },
   "source": [
    "Немного кейсов. Удалять не будем."
   ]
  },
  {
   "cell_type": "markdown",
   "metadata": {
    "pycharm": {
     "name": "#%% md\n"
    }
   },
   "source": [
    "### Building a model\n",
    "<a name=\"12.\"></a>\n",
    "[<font size=\"2\">(to the content)</font>](#1common.)\n",
    "    \n",
    "* Identify a pool of approaches that takes into account possible limitations and find a regression model that satisfies the necessary characteristics. \n",
    "* Check the model for adequacy."
   ]
  },
  {
   "cell_type": "markdown",
   "metadata": {
    "pycharm": {
     "name": "#%% md\n"
    }
   },
   "source": [
    "Возьмем самые привлекательные по RSME и попробудем подобрать лушие параметры."
   ]
  },
  {
   "cell_type": "code",
   "execution_count": 211,
   "metadata": {
    "pycharm": {
     "name": "#%%\n"
    }
   },
   "outputs": [],
   "source": [
    "#разделим на фолдеры \n",
    "cv = TimeSeriesSplit(n_splits=3)"
   ]
  },
  {
   "cell_type": "code",
   "execution_count": null,
   "outputs": [],
   "source": [
    "#RandomForestClassifier\n",
    "\n",
    "grid = {'max_depth' : [i for i in np.arange(12,20)]}\n",
    "\n",
    "clf = RandomForestRegressor()\n",
    "\n",
    "gs = GridSearchCV(clf, grid, cv=cv, scoring = 'neg_mean_absolute_error')\n",
    "\n",
    "# временно закоментим для сокращения времени расчета\n",
    "gs.fit(X_train,target_train)\n",
    "\n",
    "RandomForestRegressor_params = gs.best_params_\n",
    "print(RandomForestRegressor_params)"
   ],
   "metadata": {
    "collapsed": false,
    "pycharm": {
     "name": "#%%\n"
    }
   }
  },
  {
   "cell_type": "code",
   "execution_count": null,
   "outputs": [],
   "source": [
    "#XGBRegressor\n",
    "\n",
    "grid = {'eta' : [i for i in np.arange(0.1,0.3,0.1)] , 'max_depth' : [i for i in np.arange(14,20)]}\n",
    "\n",
    "clf = XGBRegressor(random_state = 123)\n",
    "\n",
    "gs = GridSearchCV(clf, grid, cv=cv, scoring = 'neg_mean_absolute_error')\n",
    "\n",
    "# временно закоментим для сокращения времени расчета\n",
    "gs.fit(X_train,target_train)\n",
    "\n",
    "XGBRegressor_best_params = gs.best_params_\n",
    "print(XGBRegressor_best_params)"
   ],
   "metadata": {
    "collapsed": false,
    "pycharm": {
     "name": "#%%\n"
    }
   }
  },
  {
   "cell_type": "code",
   "execution_count": null,
   "outputs": [],
   "source": [
    "#GradientBoostingRegressor\n",
    "\n",
    "grid = { 'loss' : ['huber'],\n",
    "        'learning_rate' : [i for i in np.arange(0.4,0.5,0.1)] , \n",
    "        'max_depth' : [i for i in np.arange(12,17,1)]\n",
    "       }\n",
    "\n",
    "clf = GradientBoostingRegressor(random_state = 123)\n",
    "\n",
    "gs = GridSearchCV(clf, grid, cv=cv, scoring = 'neg_mean_absolute_error')\n",
    "\n",
    "# временно закоментим для сокращения времени расчета\n",
    "gs.fit(X_train,target_train)\n",
    "\n",
    "GradientBoostingRegressor_best_params = gs.best_params_\n",
    "print(GradientBoostingRegressor_best_params)"
   ],
   "metadata": {
    "collapsed": false,
    "pycharm": {
     "name": "#%%\n"
    }
   }
  },
  {
   "cell_type": "code",
   "execution_count": null,
   "outputs": [],
   "source": [
    "#LGBMRegressor\n",
    "\n",
    "grid = { 'learning_rate' : [i for i in np.arange(0.1,0.3,0.1)]}\n",
    "\n",
    "clf = LGBMRegressor(random_state = 123)\n",
    "\n",
    "gs = GridSearchCV(clf, grid, cv=cv, scoring = 'neg_mean_absolute_error')\n",
    "\n",
    "# временно закоментим для сокращения времени расчета\n",
    "gs.fit(X_train,target_train)\n",
    "\n",
    "LGBMRegressor_best_params = gs.best_params_\n",
    "print(LGBMRegressor_best_params)"
   ],
   "metadata": {
    "collapsed": false,
    "pycharm": {
     "name": "#%%\n"
    }
   }
  },
  {
   "cell_type": "code",
   "execution_count": null,
   "outputs": [],
   "source": [
    "#сделаем фунукцию, котрая будет записывать время обучения, скорость предсказания, и качество предсказания\n",
    "def put_in_base(model_name, base_res, features_train, target_train):\n",
    "    #features_train.reset_index(drop = True, inplace = True)\n",
    "    target_train.reset_index(drop = True, inplace = True)\n",
    "    cv = TimeSeriesSplit(n_splits=3)\n",
    "    time_train, time_predict, MAE = [], [], []\n",
    "    for train_index, val_index in cv.split(features_train):\n",
    "        X_train, X_val = features_train[train_index], features_train[val_index]\n",
    "        y_train, y_val = target_train.loc[train_index], target_train.loc[val_index]\n",
    "        #время обучения.\n",
    "        start_time = time.time()\n",
    "        model_name.fit(X_train, y_train)\n",
    "        time_train.append(round((time.time() - start_time),3))\n",
    "        #скорость предсказания.\n",
    "        start_time = time.time()\n",
    "        predictions_valid = model_name.predict(X_val)\n",
    "        time_predict.append(round((time.time() - start_time),3))\n",
    "        #качество предсказания(MAE)\n",
    "        MAE.append(mean_absolute_error(y_val, predictions_valid))\n",
    "    \n",
    "    if len((str(clf).split('(')[0]).split('.')) == 1:\n",
    "        base_res.loc[str(clf).split('(')[0],'time_train'] = np.mean(time_train)\n",
    "        base_res.loc[str(clf).split('(')[0],'time_predict'] = np.mean(time_predict)\n",
    "        base_res.loc[str(clf).split('(')[0],'MAE'] = np.mean(MAE)\n",
    "    else:\n",
    "        nm = ((str(clf).split('(')[0]).split('.')[2]).split(' ')[0]\n",
    "        base_res.loc[nm,'time_train'] = np.mean(time_train)\n",
    "        base_res.loc[nm,'time_predict'] = np.mean(time_predict)\n",
    "        base_res.loc[nm,'MAE'] = np.mean(MAE)\n",
    "        \n",
    "    return base_res"
   ],
   "metadata": {
    "collapsed": false,
    "pycharm": {
     "name": "#%%\n"
    }
   }
  },
  {
   "cell_type": "code",
   "execution_count": null,
   "outputs": [],
   "source": [
    "#запустим ее для ниших моделей с ранее найденными параметрами\n",
    "ans = pd.DataFrame()\n",
    "\n",
    "for clf in (LinearRegression(),RandomForestRegressor(max_depth = 19),\n",
    "            XGBRegressor(eta = 0.2, max_depth = 16, random_state = 123),\n",
    "            GradientBoostingRegressor(learning_rate = 0.4, loss = 'huber', max_depth = 12, random_state = 123),\n",
    "            LGBMRegressor(learning_rate = 0.2, random_state = 123),\n",
    "           ):\n",
    "    put_in_base(clf, ans, X_train,target_train)"
   ],
   "metadata": {
    "collapsed": false,
    "pycharm": {
     "name": "#%%\n"
    }
   }
  },
  {
   "cell_type": "code",
   "execution_count": null,
   "outputs": [],
   "source": [
    "display(ans.sort_values(by = 'MAE'))"
   ],
   "metadata": {
    "collapsed": false,
    "pycharm": {
     "name": "#%%\n"
    }
   }
  },
  {
   "cell_type": "markdown",
   "source": [
    "Лучше всего себя показал катбус. Сможем ли уменьшить количество параметров?"
   ],
   "metadata": {
    "collapsed": false,
    "pycharm": {
     "name": "#%% md\n"
    }
   }
  },
  {
   "cell_type": "markdown",
   "source": [
    "### Тестирование\n",
    "<a name=\"13.\"></a>\n",
    "[<font size=\"2\">(к содержанию)</font>](#1common.)"
   ],
   "metadata": {
    "collapsed": false,
    "pycharm": {
     "name": "#%% md\n"
    }
   }
  },
  {
   "cell_type": "code",
   "execution_count": null,
   "outputs": [],
   "source": [
    "final_model = XGBRegressor()\n",
    "final_model.fit(X_train, target_train)\n"
   ],
   "metadata": {
    "collapsed": false,
    "pycharm": {
     "name": "#%%\n"
    }
   }
  },
  {
   "cell_type": "code",
   "execution_count": null,
   "outputs": [],
   "source": [
    "df_importances = pd.DataFrame()\n",
    "#df_importances['feature'] = data.drop(['lvalue'], axis=1).columns\n",
    "\n",
    "df_importances['feature'] =  dv.feature_names_\n",
    "df_importances['importance'] = final_model.feature_importances_\n",
    "df_importances"
   ],
   "metadata": {
    "collapsed": false,
    "pycharm": {
     "name": "#%%\n"
    }
   }
  },
  {
   "cell_type": "code",
   "execution_count": null,
   "metadata": {
    "pycharm": {
     "name": "#%%\n"
    }
   },
   "outputs": [],
   "source": [
    "#сделаем фунукцию, котрая будет записывать время обучения, скорость предсказания, и качество предсказания(RMSE)\n",
    "def put_in_base_test(model_name, base_res, features_train, target_train, features_test, target_test):\n",
    "    \n",
    "    #время обучения.\n",
    "    start_time = time.time()\n",
    "    model_name.fit(features_train, target_train)\n",
    "    \n",
    "    if len((str(model_name).split('(')[0]).split('.')) == 1:\n",
    "        nm = str(model_name).split('(')[0]\n",
    "    else:\n",
    "        nm = ((str(model_name).split('(')[0]).split('.')[2]).split(' ')[0]\n",
    "\n",
    "    base_res.loc[nm,'time_train'] = round((time.time() - start_time),3)\n",
    "    #скорость предсказания.\n",
    "    start_time = time.time()\n",
    "    predictions_test = model_name.predict(features_test)\n",
    "    base_res.loc[nm,'time_predict'] = round((time.time() - start_time),3)\n",
    "    #качество предсказания(mae)\n",
    "    base_res.loc[nm,'MAE'] = mean_absolute_error(target_test, predictions_test)\n",
    "    \n",
    "    return predictions_test, model_name, base_res"
   ]
  },
  {
   "cell_type": "code",
   "execution_count": null,
   "metadata": {
    "pycharm": {
     "name": "#%%\n"
    }
   },
   "outputs": [],
   "source": [
    "#посмотрим на результат\n",
    "info_final_test = pd.DataFrame()\n",
    "\n",
    "final_model = GradientBoostingRegressor(learning_rate = 0.2, max_depth = 12, random_state = 123)\n",
    "\n",
    "predictions_test, final_model, info_final_test = put_in_base_test(final_model, info_final_test, \n",
    "                                                                  X_train, target_train, \n",
    "                                                                  X_test, target_test)"
   ]
  },
  {
   "cell_type": "code",
   "execution_count": 170,
   "metadata": {
    "pycharm": {
     "name": "#%%\n"
    }
   },
   "outputs": [
    {
     "data": {
      "application/vnd.plotly.v1+json": {
       "config": {
        "plotlyServerURL": "https://plot.ly"
       },
       "data": [
        {
         "cells": {
          "align": "center",
          "fill": {
           "color": [
            [
             "rgb(107, 174, 214)"
            ]
           ]
          },
          "font": {
           "color": "black",
           "size": 14
          },
          "line": {
           "color": [
            [
             "rgb(107, 174, 214)"
            ]
           ]
          },
          "values": [
           [
            1.94
           ],
           [
            0.01
           ],
           [
            5.94
           ]
          ]
         },
         "header": {
          "align": "center",
          "fill": {
           "color": "white"
          },
          "font": {
           "color": "black",
           "size": 15
          },
          "line": {
           "color": "white"
          },
          "values": [
           "Время обучения модели (в секундах)",
           "Время предсказания модели (в секундах)",
           "MAE на тестовой выборке"
          ]
         },
         "type": "table"
        }
       ],
       "layout": {
        "height": 300,
        "template": {
         "data": {
          "bar": [
           {
            "error_x": {
             "color": "#2a3f5f"
            },
            "error_y": {
             "color": "#2a3f5f"
            },
            "marker": {
             "line": {
              "color": "#E5ECF6",
              "width": 0.5
             },
             "pattern": {
              "fillmode": "overlay",
              "size": 10,
              "solidity": 0.2
             }
            },
            "type": "bar"
           }
          ],
          "barpolar": [
           {
            "marker": {
             "line": {
              "color": "#E5ECF6",
              "width": 0.5
             },
             "pattern": {
              "fillmode": "overlay",
              "size": 10,
              "solidity": 0.2
             }
            },
            "type": "barpolar"
           }
          ],
          "carpet": [
           {
            "aaxis": {
             "endlinecolor": "#2a3f5f",
             "gridcolor": "white",
             "linecolor": "white",
             "minorgridcolor": "white",
             "startlinecolor": "#2a3f5f"
            },
            "baxis": {
             "endlinecolor": "#2a3f5f",
             "gridcolor": "white",
             "linecolor": "white",
             "minorgridcolor": "white",
             "startlinecolor": "#2a3f5f"
            },
            "type": "carpet"
           }
          ],
          "choropleth": [
           {
            "colorbar": {
             "outlinewidth": 0,
             "ticks": ""
            },
            "type": "choropleth"
           }
          ],
          "contour": [
           {
            "colorbar": {
             "outlinewidth": 0,
             "ticks": ""
            },
            "colorscale": [
             [
              0,
              "#0d0887"
             ],
             [
              0.1111111111111111,
              "#46039f"
             ],
             [
              0.2222222222222222,
              "#7201a8"
             ],
             [
              0.3333333333333333,
              "#9c179e"
             ],
             [
              0.4444444444444444,
              "#bd3786"
             ],
             [
              0.5555555555555556,
              "#d8576b"
             ],
             [
              0.6666666666666666,
              "#ed7953"
             ],
             [
              0.7777777777777778,
              "#fb9f3a"
             ],
             [
              0.8888888888888888,
              "#fdca26"
             ],
             [
              1,
              "#f0f921"
             ]
            ],
            "type": "contour"
           }
          ],
          "contourcarpet": [
           {
            "colorbar": {
             "outlinewidth": 0,
             "ticks": ""
            },
            "type": "contourcarpet"
           }
          ],
          "heatmap": [
           {
            "colorbar": {
             "outlinewidth": 0,
             "ticks": ""
            },
            "colorscale": [
             [
              0,
              "#0d0887"
             ],
             [
              0.1111111111111111,
              "#46039f"
             ],
             [
              0.2222222222222222,
              "#7201a8"
             ],
             [
              0.3333333333333333,
              "#9c179e"
             ],
             [
              0.4444444444444444,
              "#bd3786"
             ],
             [
              0.5555555555555556,
              "#d8576b"
             ],
             [
              0.6666666666666666,
              "#ed7953"
             ],
             [
              0.7777777777777778,
              "#fb9f3a"
             ],
             [
              0.8888888888888888,
              "#fdca26"
             ],
             [
              1,
              "#f0f921"
             ]
            ],
            "type": "heatmap"
           }
          ],
          "heatmapgl": [
           {
            "colorbar": {
             "outlinewidth": 0,
             "ticks": ""
            },
            "colorscale": [
             [
              0,
              "#0d0887"
             ],
             [
              0.1111111111111111,
              "#46039f"
             ],
             [
              0.2222222222222222,
              "#7201a8"
             ],
             [
              0.3333333333333333,
              "#9c179e"
             ],
             [
              0.4444444444444444,
              "#bd3786"
             ],
             [
              0.5555555555555556,
              "#d8576b"
             ],
             [
              0.6666666666666666,
              "#ed7953"
             ],
             [
              0.7777777777777778,
              "#fb9f3a"
             ],
             [
              0.8888888888888888,
              "#fdca26"
             ],
             [
              1,
              "#f0f921"
             ]
            ],
            "type": "heatmapgl"
           }
          ],
          "histogram": [
           {
            "marker": {
             "pattern": {
              "fillmode": "overlay",
              "size": 10,
              "solidity": 0.2
             }
            },
            "type": "histogram"
           }
          ],
          "histogram2d": [
           {
            "colorbar": {
             "outlinewidth": 0,
             "ticks": ""
            },
            "colorscale": [
             [
              0,
              "#0d0887"
             ],
             [
              0.1111111111111111,
              "#46039f"
             ],
             [
              0.2222222222222222,
              "#7201a8"
             ],
             [
              0.3333333333333333,
              "#9c179e"
             ],
             [
              0.4444444444444444,
              "#bd3786"
             ],
             [
              0.5555555555555556,
              "#d8576b"
             ],
             [
              0.6666666666666666,
              "#ed7953"
             ],
             [
              0.7777777777777778,
              "#fb9f3a"
             ],
             [
              0.8888888888888888,
              "#fdca26"
             ],
             [
              1,
              "#f0f921"
             ]
            ],
            "type": "histogram2d"
           }
          ],
          "histogram2dcontour": [
           {
            "colorbar": {
             "outlinewidth": 0,
             "ticks": ""
            },
            "colorscale": [
             [
              0,
              "#0d0887"
             ],
             [
              0.1111111111111111,
              "#46039f"
             ],
             [
              0.2222222222222222,
              "#7201a8"
             ],
             [
              0.3333333333333333,
              "#9c179e"
             ],
             [
              0.4444444444444444,
              "#bd3786"
             ],
             [
              0.5555555555555556,
              "#d8576b"
             ],
             [
              0.6666666666666666,
              "#ed7953"
             ],
             [
              0.7777777777777778,
              "#fb9f3a"
             ],
             [
              0.8888888888888888,
              "#fdca26"
             ],
             [
              1,
              "#f0f921"
             ]
            ],
            "type": "histogram2dcontour"
           }
          ],
          "mesh3d": [
           {
            "colorbar": {
             "outlinewidth": 0,
             "ticks": ""
            },
            "type": "mesh3d"
           }
          ],
          "parcoords": [
           {
            "line": {
             "colorbar": {
              "outlinewidth": 0,
              "ticks": ""
             }
            },
            "type": "parcoords"
           }
          ],
          "pie": [
           {
            "automargin": true,
            "type": "pie"
           }
          ],
          "scatter": [
           {
            "fillpattern": {
             "fillmode": "overlay",
             "size": 10,
             "solidity": 0.2
            },
            "type": "scatter"
           }
          ],
          "scatter3d": [
           {
            "line": {
             "colorbar": {
              "outlinewidth": 0,
              "ticks": ""
             }
            },
            "marker": {
             "colorbar": {
              "outlinewidth": 0,
              "ticks": ""
             }
            },
            "type": "scatter3d"
           }
          ],
          "scattercarpet": [
           {
            "marker": {
             "colorbar": {
              "outlinewidth": 0,
              "ticks": ""
             }
            },
            "type": "scattercarpet"
           }
          ],
          "scattergeo": [
           {
            "marker": {
             "colorbar": {
              "outlinewidth": 0,
              "ticks": ""
             }
            },
            "type": "scattergeo"
           }
          ],
          "scattergl": [
           {
            "marker": {
             "colorbar": {
              "outlinewidth": 0,
              "ticks": ""
             }
            },
            "type": "scattergl"
           }
          ],
          "scattermapbox": [
           {
            "marker": {
             "colorbar": {
              "outlinewidth": 0,
              "ticks": ""
             }
            },
            "type": "scattermapbox"
           }
          ],
          "scatterpolar": [
           {
            "marker": {
             "colorbar": {
              "outlinewidth": 0,
              "ticks": ""
             }
            },
            "type": "scatterpolar"
           }
          ],
          "scatterpolargl": [
           {
            "marker": {
             "colorbar": {
              "outlinewidth": 0,
              "ticks": ""
             }
            },
            "type": "scatterpolargl"
           }
          ],
          "scatterternary": [
           {
            "marker": {
             "colorbar": {
              "outlinewidth": 0,
              "ticks": ""
             }
            },
            "type": "scatterternary"
           }
          ],
          "surface": [
           {
            "colorbar": {
             "outlinewidth": 0,
             "ticks": ""
            },
            "colorscale": [
             [
              0,
              "#0d0887"
             ],
             [
              0.1111111111111111,
              "#46039f"
             ],
             [
              0.2222222222222222,
              "#7201a8"
             ],
             [
              0.3333333333333333,
              "#9c179e"
             ],
             [
              0.4444444444444444,
              "#bd3786"
             ],
             [
              0.5555555555555556,
              "#d8576b"
             ],
             [
              0.6666666666666666,
              "#ed7953"
             ],
             [
              0.7777777777777778,
              "#fb9f3a"
             ],
             [
              0.8888888888888888,
              "#fdca26"
             ],
             [
              1,
              "#f0f921"
             ]
            ],
            "type": "surface"
           }
          ],
          "table": [
           {
            "cells": {
             "fill": {
              "color": "#EBF0F8"
             },
             "line": {
              "color": "white"
             }
            },
            "header": {
             "fill": {
              "color": "#C8D4E3"
             },
             "line": {
              "color": "white"
             }
            },
            "type": "table"
           }
          ]
         },
         "layout": {
          "annotationdefaults": {
           "arrowcolor": "#2a3f5f",
           "arrowhead": 0,
           "arrowwidth": 1
          },
          "autotypenumbers": "strict",
          "coloraxis": {
           "colorbar": {
            "outlinewidth": 0,
            "ticks": ""
           }
          },
          "colorscale": {
           "diverging": [
            [
             0,
             "#8e0152"
            ],
            [
             0.1,
             "#c51b7d"
            ],
            [
             0.2,
             "#de77ae"
            ],
            [
             0.3,
             "#f1b6da"
            ],
            [
             0.4,
             "#fde0ef"
            ],
            [
             0.5,
             "#f7f7f7"
            ],
            [
             0.6,
             "#e6f5d0"
            ],
            [
             0.7,
             "#b8e186"
            ],
            [
             0.8,
             "#7fbc41"
            ],
            [
             0.9,
             "#4d9221"
            ],
            [
             1,
             "#276419"
            ]
           ],
           "sequential": [
            [
             0,
             "#0d0887"
            ],
            [
             0.1111111111111111,
             "#46039f"
            ],
            [
             0.2222222222222222,
             "#7201a8"
            ],
            [
             0.3333333333333333,
             "#9c179e"
            ],
            [
             0.4444444444444444,
             "#bd3786"
            ],
            [
             0.5555555555555556,
             "#d8576b"
            ],
            [
             0.6666666666666666,
             "#ed7953"
            ],
            [
             0.7777777777777778,
             "#fb9f3a"
            ],
            [
             0.8888888888888888,
             "#fdca26"
            ],
            [
             1,
             "#f0f921"
            ]
           ],
           "sequentialminus": [
            [
             0,
             "#0d0887"
            ],
            [
             0.1111111111111111,
             "#46039f"
            ],
            [
             0.2222222222222222,
             "#7201a8"
            ],
            [
             0.3333333333333333,
             "#9c179e"
            ],
            [
             0.4444444444444444,
             "#bd3786"
            ],
            [
             0.5555555555555556,
             "#d8576b"
            ],
            [
             0.6666666666666666,
             "#ed7953"
            ],
            [
             0.7777777777777778,
             "#fb9f3a"
            ],
            [
             0.8888888888888888,
             "#fdca26"
            ],
            [
             1,
             "#f0f921"
            ]
           ]
          },
          "colorway": [
           "#636efa",
           "#EF553B",
           "#00cc96",
           "#ab63fa",
           "#FFA15A",
           "#19d3f3",
           "#FF6692",
           "#B6E880",
           "#FF97FF",
           "#FECB52"
          ],
          "font": {
           "color": "#2a3f5f"
          },
          "geo": {
           "bgcolor": "white",
           "lakecolor": "white",
           "landcolor": "#E5ECF6",
           "showlakes": true,
           "showland": true,
           "subunitcolor": "white"
          },
          "hoverlabel": {
           "align": "left"
          },
          "hovermode": "closest",
          "mapbox": {
           "style": "light"
          },
          "paper_bgcolor": "white",
          "plot_bgcolor": "#E5ECF6",
          "polar": {
           "angularaxis": {
            "gridcolor": "white",
            "linecolor": "white",
            "ticks": ""
           },
           "bgcolor": "#E5ECF6",
           "radialaxis": {
            "gridcolor": "white",
            "linecolor": "white",
            "ticks": ""
           }
          },
          "scene": {
           "xaxis": {
            "backgroundcolor": "#E5ECF6",
            "gridcolor": "white",
            "gridwidth": 2,
            "linecolor": "white",
            "showbackground": true,
            "ticks": "",
            "zerolinecolor": "white"
           },
           "yaxis": {
            "backgroundcolor": "#E5ECF6",
            "gridcolor": "white",
            "gridwidth": 2,
            "linecolor": "white",
            "showbackground": true,
            "ticks": "",
            "zerolinecolor": "white"
           },
           "zaxis": {
            "backgroundcolor": "#E5ECF6",
            "gridcolor": "white",
            "gridwidth": 2,
            "linecolor": "white",
            "showbackground": true,
            "ticks": "",
            "zerolinecolor": "white"
           }
          },
          "shapedefaults": {
           "line": {
            "color": "#2a3f5f"
           }
          },
          "ternary": {
           "aaxis": {
            "gridcolor": "white",
            "linecolor": "white",
            "ticks": ""
           },
           "baxis": {
            "gridcolor": "white",
            "linecolor": "white",
            "ticks": ""
           },
           "bgcolor": "#E5ECF6",
           "caxis": {
            "gridcolor": "white",
            "linecolor": "white",
            "ticks": ""
           }
          },
          "title": {
           "x": 0.05
          },
          "xaxis": {
           "automargin": true,
           "gridcolor": "white",
           "linecolor": "white",
           "ticks": "",
           "title": {
            "standoff": 15
           },
           "zerolinecolor": "white",
           "zerolinewidth": 2
          },
          "yaxis": {
           "automargin": true,
           "gridcolor": "white",
           "linecolor": "white",
           "ticks": "",
           "title": {
            "standoff": 15
           },
           "zerolinecolor": "white",
           "zerolinewidth": 2
          }
         }
        },
        "title": {
         "text": "Показатели финальной модели (GradientBoostingRegressor)"
        }
       }
      },
      "text/html": [
       "<div>                            <div id=\"3deec6b2-17a3-48f7-92bf-280ffee2e078\" class=\"plotly-graph-div\" style=\"height:300px; width:100%;\"></div>            <script type=\"text/javascript\">                require([\"plotly\"], function(Plotly) {                    window.PLOTLYENV=window.PLOTLYENV || {};                                    if (document.getElementById(\"3deec6b2-17a3-48f7-92bf-280ffee2e078\")) {                    Plotly.newPlot(                        \"3deec6b2-17a3-48f7-92bf-280ffee2e078\",                        [{\"cells\":{\"align\":\"center\",\"fill\":{\"color\":[[\"rgb(107, 174, 214)\"]]},\"font\":{\"color\":\"black\",\"size\":14},\"line\":{\"color\":[[\"rgb(107, 174, 214)\"]]},\"values\":[[1.94],[0.01],[5.94]]},\"header\":{\"align\":\"center\",\"fill\":{\"color\":\"white\"},\"font\":{\"color\":\"black\",\"size\":15},\"line\":{\"color\":\"white\"},\"values\":[\"\\u0412\\u0440\\u0435\\u043c\\u044f \\u043e\\u0431\\u0443\\u0447\\u0435\\u043d\\u0438\\u044f \\u043c\\u043e\\u0434\\u0435\\u043b\\u0438 (\\u0432 \\u0441\\u0435\\u043a\\u0443\\u043d\\u0434\\u0430\\u0445)\",\"\\u0412\\u0440\\u0435\\u043c\\u044f \\u043f\\u0440\\u0435\\u0434\\u0441\\u043a\\u0430\\u0437\\u0430\\u043d\\u0438\\u044f \\u043c\\u043e\\u0434\\u0435\\u043b\\u0438 (\\u0432 \\u0441\\u0435\\u043a\\u0443\\u043d\\u0434\\u0430\\u0445)\",\"MAE \\u043d\\u0430 \\u0442\\u0435\\u0441\\u0442\\u043e\\u0432\\u043e\\u0439 \\u0432\\u044b\\u0431\\u043e\\u0440\\u043a\\u0435\"]},\"type\":\"table\"}],                        {\"template\":{\"data\":{\"histogram2dcontour\":[{\"type\":\"histogram2dcontour\",\"colorbar\":{\"outlinewidth\":0,\"ticks\":\"\"},\"colorscale\":[[0.0,\"#0d0887\"],[0.1111111111111111,\"#46039f\"],[0.2222222222222222,\"#7201a8\"],[0.3333333333333333,\"#9c179e\"],[0.4444444444444444,\"#bd3786\"],[0.5555555555555556,\"#d8576b\"],[0.6666666666666666,\"#ed7953\"],[0.7777777777777778,\"#fb9f3a\"],[0.8888888888888888,\"#fdca26\"],[1.0,\"#f0f921\"]]}],\"choropleth\":[{\"type\":\"choropleth\",\"colorbar\":{\"outlinewidth\":0,\"ticks\":\"\"}}],\"histogram2d\":[{\"type\":\"histogram2d\",\"colorbar\":{\"outlinewidth\":0,\"ticks\":\"\"},\"colorscale\":[[0.0,\"#0d0887\"],[0.1111111111111111,\"#46039f\"],[0.2222222222222222,\"#7201a8\"],[0.3333333333333333,\"#9c179e\"],[0.4444444444444444,\"#bd3786\"],[0.5555555555555556,\"#d8576b\"],[0.6666666666666666,\"#ed7953\"],[0.7777777777777778,\"#fb9f3a\"],[0.8888888888888888,\"#fdca26\"],[1.0,\"#f0f921\"]]}],\"heatmap\":[{\"type\":\"heatmap\",\"colorbar\":{\"outlinewidth\":0,\"ticks\":\"\"},\"colorscale\":[[0.0,\"#0d0887\"],[0.1111111111111111,\"#46039f\"],[0.2222222222222222,\"#7201a8\"],[0.3333333333333333,\"#9c179e\"],[0.4444444444444444,\"#bd3786\"],[0.5555555555555556,\"#d8576b\"],[0.6666666666666666,\"#ed7953\"],[0.7777777777777778,\"#fb9f3a\"],[0.8888888888888888,\"#fdca26\"],[1.0,\"#f0f921\"]]}],\"heatmapgl\":[{\"type\":\"heatmapgl\",\"colorbar\":{\"outlinewidth\":0,\"ticks\":\"\"},\"colorscale\":[[0.0,\"#0d0887\"],[0.1111111111111111,\"#46039f\"],[0.2222222222222222,\"#7201a8\"],[0.3333333333333333,\"#9c179e\"],[0.4444444444444444,\"#bd3786\"],[0.5555555555555556,\"#d8576b\"],[0.6666666666666666,\"#ed7953\"],[0.7777777777777778,\"#fb9f3a\"],[0.8888888888888888,\"#fdca26\"],[1.0,\"#f0f921\"]]}],\"contourcarpet\":[{\"type\":\"contourcarpet\",\"colorbar\":{\"outlinewidth\":0,\"ticks\":\"\"}}],\"contour\":[{\"type\":\"contour\",\"colorbar\":{\"outlinewidth\":0,\"ticks\":\"\"},\"colorscale\":[[0.0,\"#0d0887\"],[0.1111111111111111,\"#46039f\"],[0.2222222222222222,\"#7201a8\"],[0.3333333333333333,\"#9c179e\"],[0.4444444444444444,\"#bd3786\"],[0.5555555555555556,\"#d8576b\"],[0.6666666666666666,\"#ed7953\"],[0.7777777777777778,\"#fb9f3a\"],[0.8888888888888888,\"#fdca26\"],[1.0,\"#f0f921\"]]}],\"surface\":[{\"type\":\"surface\",\"colorbar\":{\"outlinewidth\":0,\"ticks\":\"\"},\"colorscale\":[[0.0,\"#0d0887\"],[0.1111111111111111,\"#46039f\"],[0.2222222222222222,\"#7201a8\"],[0.3333333333333333,\"#9c179e\"],[0.4444444444444444,\"#bd3786\"],[0.5555555555555556,\"#d8576b\"],[0.6666666666666666,\"#ed7953\"],[0.7777777777777778,\"#fb9f3a\"],[0.8888888888888888,\"#fdca26\"],[1.0,\"#f0f921\"]]}],\"mesh3d\":[{\"type\":\"mesh3d\",\"colorbar\":{\"outlinewidth\":0,\"ticks\":\"\"}}],\"scatter\":[{\"fillpattern\":{\"fillmode\":\"overlay\",\"size\":10,\"solidity\":0.2},\"type\":\"scatter\"}],\"parcoords\":[{\"type\":\"parcoords\",\"line\":{\"colorbar\":{\"outlinewidth\":0,\"ticks\":\"\"}}}],\"scatterpolargl\":[{\"type\":\"scatterpolargl\",\"marker\":{\"colorbar\":{\"outlinewidth\":0,\"ticks\":\"\"}}}],\"bar\":[{\"error_x\":{\"color\":\"#2a3f5f\"},\"error_y\":{\"color\":\"#2a3f5f\"},\"marker\":{\"line\":{\"color\":\"#E5ECF6\",\"width\":0.5},\"pattern\":{\"fillmode\":\"overlay\",\"size\":10,\"solidity\":0.2}},\"type\":\"bar\"}],\"scattergeo\":[{\"type\":\"scattergeo\",\"marker\":{\"colorbar\":{\"outlinewidth\":0,\"ticks\":\"\"}}}],\"scatterpolar\":[{\"type\":\"scatterpolar\",\"marker\":{\"colorbar\":{\"outlinewidth\":0,\"ticks\":\"\"}}}],\"histogram\":[{\"marker\":{\"pattern\":{\"fillmode\":\"overlay\",\"size\":10,\"solidity\":0.2}},\"type\":\"histogram\"}],\"scattergl\":[{\"type\":\"scattergl\",\"marker\":{\"colorbar\":{\"outlinewidth\":0,\"ticks\":\"\"}}}],\"scatter3d\":[{\"type\":\"scatter3d\",\"line\":{\"colorbar\":{\"outlinewidth\":0,\"ticks\":\"\"}},\"marker\":{\"colorbar\":{\"outlinewidth\":0,\"ticks\":\"\"}}}],\"scattermapbox\":[{\"type\":\"scattermapbox\",\"marker\":{\"colorbar\":{\"outlinewidth\":0,\"ticks\":\"\"}}}],\"scatterternary\":[{\"type\":\"scatterternary\",\"marker\":{\"colorbar\":{\"outlinewidth\":0,\"ticks\":\"\"}}}],\"scattercarpet\":[{\"type\":\"scattercarpet\",\"marker\":{\"colorbar\":{\"outlinewidth\":0,\"ticks\":\"\"}}}],\"carpet\":[{\"aaxis\":{\"endlinecolor\":\"#2a3f5f\",\"gridcolor\":\"white\",\"linecolor\":\"white\",\"minorgridcolor\":\"white\",\"startlinecolor\":\"#2a3f5f\"},\"baxis\":{\"endlinecolor\":\"#2a3f5f\",\"gridcolor\":\"white\",\"linecolor\":\"white\",\"minorgridcolor\":\"white\",\"startlinecolor\":\"#2a3f5f\"},\"type\":\"carpet\"}],\"table\":[{\"cells\":{\"fill\":{\"color\":\"#EBF0F8\"},\"line\":{\"color\":\"white\"}},\"header\":{\"fill\":{\"color\":\"#C8D4E3\"},\"line\":{\"color\":\"white\"}},\"type\":\"table\"}],\"barpolar\":[{\"marker\":{\"line\":{\"color\":\"#E5ECF6\",\"width\":0.5},\"pattern\":{\"fillmode\":\"overlay\",\"size\":10,\"solidity\":0.2}},\"type\":\"barpolar\"}],\"pie\":[{\"automargin\":true,\"type\":\"pie\"}]},\"layout\":{\"autotypenumbers\":\"strict\",\"colorway\":[\"#636efa\",\"#EF553B\",\"#00cc96\",\"#ab63fa\",\"#FFA15A\",\"#19d3f3\",\"#FF6692\",\"#B6E880\",\"#FF97FF\",\"#FECB52\"],\"font\":{\"color\":\"#2a3f5f\"},\"hovermode\":\"closest\",\"hoverlabel\":{\"align\":\"left\"},\"paper_bgcolor\":\"white\",\"plot_bgcolor\":\"#E5ECF6\",\"polar\":{\"bgcolor\":\"#E5ECF6\",\"angularaxis\":{\"gridcolor\":\"white\",\"linecolor\":\"white\",\"ticks\":\"\"},\"radialaxis\":{\"gridcolor\":\"white\",\"linecolor\":\"white\",\"ticks\":\"\"}},\"ternary\":{\"bgcolor\":\"#E5ECF6\",\"aaxis\":{\"gridcolor\":\"white\",\"linecolor\":\"white\",\"ticks\":\"\"},\"baxis\":{\"gridcolor\":\"white\",\"linecolor\":\"white\",\"ticks\":\"\"},\"caxis\":{\"gridcolor\":\"white\",\"linecolor\":\"white\",\"ticks\":\"\"}},\"coloraxis\":{\"colorbar\":{\"outlinewidth\":0,\"ticks\":\"\"}},\"colorscale\":{\"sequential\":[[0.0,\"#0d0887\"],[0.1111111111111111,\"#46039f\"],[0.2222222222222222,\"#7201a8\"],[0.3333333333333333,\"#9c179e\"],[0.4444444444444444,\"#bd3786\"],[0.5555555555555556,\"#d8576b\"],[0.6666666666666666,\"#ed7953\"],[0.7777777777777778,\"#fb9f3a\"],[0.8888888888888888,\"#fdca26\"],[1.0,\"#f0f921\"]],\"sequentialminus\":[[0.0,\"#0d0887\"],[0.1111111111111111,\"#46039f\"],[0.2222222222222222,\"#7201a8\"],[0.3333333333333333,\"#9c179e\"],[0.4444444444444444,\"#bd3786\"],[0.5555555555555556,\"#d8576b\"],[0.6666666666666666,\"#ed7953\"],[0.7777777777777778,\"#fb9f3a\"],[0.8888888888888888,\"#fdca26\"],[1.0,\"#f0f921\"]],\"diverging\":[[0,\"#8e0152\"],[0.1,\"#c51b7d\"],[0.2,\"#de77ae\"],[0.3,\"#f1b6da\"],[0.4,\"#fde0ef\"],[0.5,\"#f7f7f7\"],[0.6,\"#e6f5d0\"],[0.7,\"#b8e186\"],[0.8,\"#7fbc41\"],[0.9,\"#4d9221\"],[1,\"#276419\"]]},\"xaxis\":{\"gridcolor\":\"white\",\"linecolor\":\"white\",\"ticks\":\"\",\"title\":{\"standoff\":15},\"zerolinecolor\":\"white\",\"automargin\":true,\"zerolinewidth\":2},\"yaxis\":{\"gridcolor\":\"white\",\"linecolor\":\"white\",\"ticks\":\"\",\"title\":{\"standoff\":15},\"zerolinecolor\":\"white\",\"automargin\":true,\"zerolinewidth\":2},\"scene\":{\"xaxis\":{\"backgroundcolor\":\"#E5ECF6\",\"gridcolor\":\"white\",\"linecolor\":\"white\",\"showbackground\":true,\"ticks\":\"\",\"zerolinecolor\":\"white\",\"gridwidth\":2},\"yaxis\":{\"backgroundcolor\":\"#E5ECF6\",\"gridcolor\":\"white\",\"linecolor\":\"white\",\"showbackground\":true,\"ticks\":\"\",\"zerolinecolor\":\"white\",\"gridwidth\":2},\"zaxis\":{\"backgroundcolor\":\"#E5ECF6\",\"gridcolor\":\"white\",\"linecolor\":\"white\",\"showbackground\":true,\"ticks\":\"\",\"zerolinecolor\":\"white\",\"gridwidth\":2}},\"shapedefaults\":{\"line\":{\"color\":\"#2a3f5f\"}},\"annotationdefaults\":{\"arrowcolor\":\"#2a3f5f\",\"arrowhead\":0,\"arrowwidth\":1},\"geo\":{\"bgcolor\":\"white\",\"landcolor\":\"#E5ECF6\",\"subunitcolor\":\"white\",\"showland\":true,\"showlakes\":true,\"lakecolor\":\"white\"},\"title\":{\"x\":0.05},\"mapbox\":{\"style\":\"light\"}}},\"title\":{\"text\":\"\\u041f\\u043e\\u043a\\u0430\\u0437\\u0430\\u0442\\u0435\\u043b\\u0438 \\u0444\\u0438\\u043d\\u0430\\u043b\\u044c\\u043d\\u043e\\u0439 \\u043c\\u043e\\u0434\\u0435\\u043b\\u0438 (GradientBoostingRegressor)\"},\"height\":300},                        {\"responsive\": true}                    ).then(function(){\n",
       "                            \n",
       "var gd = document.getElementById('3deec6b2-17a3-48f7-92bf-280ffee2e078');\n",
       "var x = new MutationObserver(function (mutations, observer) {{\n",
       "        var display = window.getComputedStyle(gd).display;\n",
       "        if (!display || display === 'none') {{\n",
       "            console.log([gd, 'removed!']);\n",
       "            Plotly.purge(gd);\n",
       "            observer.disconnect();\n",
       "        }}\n",
       "}});\n",
       "\n",
       "// Listen for the removal of the full notebook cells\n",
       "var notebookContainer = gd.closest('#notebook-container');\n",
       "if (notebookContainer) {{\n",
       "    x.observe(notebookContainer, {childList: true});\n",
       "}}\n",
       "\n",
       "// Listen for the clearing of the current output cell\n",
       "var outputEl = gd.closest('.output');\n",
       "if (outputEl) {{\n",
       "    x.observe(outputEl, {childList: true});\n",
       "}}\n",
       "\n",
       "                        })                };                });            </script>        </div>"
      ]
     },
     "metadata": {},
     "output_type": "display_data"
    }
   ],
   "source": [
    "#выведем красиво\n",
    "colors = ['rgb(107, 174, 214)']\n",
    "fig = go.Figure(data=[go.Table( header=dict(\n",
    "    values=['Время обучения модели (в секундах)', \n",
    "            'Время предсказания модели (в секундах)',\n",
    "            'MAE на тестовой выборке'],\n",
    "    line_color='white', fill_color='white',\n",
    "    align='center', font=dict(color='black', size=15)\n",
    "  ),\n",
    "  cells=dict(\n",
    "    values=[info_final_test.time_train.round(2), \n",
    "            info_final_test.time_predict.round(2),info_final_test.MAE.round(2)],\n",
    "    line_color=[colors], fill_color=[colors],\n",
    "    align='center', font=dict(color='black', size=14)\n",
    "  ))\n",
    "])\n",
    "fig.update_layout(title_text=\"Показатели финальной модели (GradientBoostingRegressor)\", height = 300)\n",
    "fig.show()"
   ]
  },
  {
   "cell_type": "markdown",
   "metadata": {
    "pycharm": {
     "name": "#%% md\n"
    }
   },
   "source": [
    "#### Проверка модели на адекватность.\n",
    "<a name=\"14.\"></a>\n",
    "[<font size=\"2\">(к содержанию)</font>](#1common.)"
   ]
  },
  {
   "cell_type": "code",
   "execution_count": 171,
   "metadata": {
    "pycharm": {
     "name": "#%%\n"
    }
   },
   "outputs": [
    {
     "name": "stdout",
     "output_type": "stream",
     "text": [
      "\u001B[1m % mean in test sample: target \u001B[34m1002.2\u001B[0m\u001B[1m VS predictions \u001B[34m1001.54\u001B[0m \u001B[0m\n"
     ]
    },
    {
     "data": {
      "image/png": "[encoded data removed]",
      "text/plain": [
       "<Figure size 640x480 with 1 Axes>"
      ]
     },
     "metadata": {
      "image/png": {
       "height": 457,
       "width": 576
      }
     },
     "output_type": "display_data"
    }
   ],
   "source": [
    "#**Проверка на логичность**\n",
    "print(bold(),\"% mean in test sample: target\",colored(round(target_test.mean(),2),'blue')+bold(),\"VS predictions\",\n",
    "      colored(round(predictions_test.mean() ,2),'blue'),bold_end())\n",
    "\n",
    "target_test.hist(bins = 50, alpha=0.5, density=True)\n",
    "pd.Series(predictions_test).hist(bins = 50, alpha=0.5, density=True)\n",
    "\n",
    "plt.xlabel('Температура нагрева')\n",
    "plt.ylabel('Плотность распределения')\n",
    "plt.title('Распределение на тестовой выборке', fontsize=15) \n",
    "plt.legend(['Таргет', 'Предсказания'])\n",
    "plt.show()"
   ]
  },
  {
   "cell_type": "markdown",
   "metadata": {
    "pycharm": {
     "name": "#%% md\n"
    }
   },
   "source": [
    "Средние похожи. Распределения также, однако предсказание ожидаемо хуже определяет крайние случаи"
   ]
  },
  {
   "cell_type": "code",
   "execution_count": 172,
   "metadata": {
    "pycharm": {
     "name": "#%%\n"
    }
   },
   "outputs": [],
   "source": [
    "#Сравнимc дамми\n",
    "dummy_model = DummyRegressor(strategy='median')\n",
    "\n",
    "predictions_dummy, dummy_model, info_final_test = put_in_base_test(dummy_model, info_final_test, \n",
    "                                                                  features_train, target_train, \n",
    "                                                                  features_test, target_test)"
   ]
  },
  {
   "cell_type": "code",
   "execution_count": 173,
   "metadata": {
    "pycharm": {
     "name": "#%%\n"
    }
   },
   "outputs": [
    {
     "data": {
      "text/html": [
       "<div>\n",
       "<style scoped>\n",
       "    .dataframe tbody tr th:only-of-type {\n",
       "        vertical-align: middle;\n",
       "    }\n",
       "\n",
       "    .dataframe tbody tr th {\n",
       "        vertical-align: top;\n",
       "    }\n",
       "\n",
       "    .dataframe thead th {\n",
       "        text-align: right;\n",
       "    }\n",
       "</style>\n",
       "<table border=\"1\" class=\"dataframe\">\n",
       "  <thead>\n",
       "    <tr style=\"text-align: right;\">\n",
       "      <th></th>\n",
       "      <th>time_train</th>\n",
       "      <th>time_predict</th>\n",
       "      <th>MAE</th>\n",
       "    </tr>\n",
       "  </thead>\n",
       "  <tbody>\n",
       "    <tr>\n",
       "      <th>GradientBoostingRegressor</th>\n",
       "      <td>1.95</td>\n",
       "      <td>0.01</td>\n",
       "      <td>5.94</td>\n",
       "    </tr>\n",
       "    <tr>\n",
       "      <th>DummyRegressor</th>\n",
       "      <td>0.00</td>\n",
       "      <td>0.00</td>\n",
       "      <td>7.87</td>\n",
       "    </tr>\n",
       "  </tbody>\n",
       "</table>\n",
       "</div>"
      ],
      "text/plain": [
       "                           time_train  time_predict        MAE\n",
       "GradientBoostingRegressor        1.95          0.01       5.94\n",
       "DummyRegressor                   0.00          0.00       7.87"
      ]
     },
     "metadata": {},
     "output_type": "display_data"
    }
   ],
   "source": [
    "display(info_final_test)"
   ]
  },
  {
   "cell_type": "markdown",
   "metadata": {
    "pycharm": {
     "name": "#%% md\n"
    }
   },
   "source": [
    "Наша модель показывает себя гораздно лучше чем Дамми"
   ]
  },
  {
   "cell_type": "markdown",
   "metadata": {
    "pycharm": {
     "name": "#%% md\n"
    }
   },
   "source": [
    "## Вывод.\n",
    "<a name=\"15.\"></a>\n",
    "[<font size=\"2\">(к содержанию)</font>](#1common.)\n",
    "\n",
    "**На основе исторических данных, была построена модель для предсказания финальной температуру стали с целью оптимизировать производственные расходы, металлургического комбината и уменьшить потребление электроэнергии на этапе обработки стали.**\n",
    "\n",
    "**Заказчику необходима модель с показателем MAE не более 8.7:**\n",
    "* Полученная модель имеет на тестовой выборке МАЕ 5.43 \n",
    "\n",
    "По результатам первичного анализа и в работу взяты:\n",
    "* Кейсы содержащие минимум 2 замера температуры (первичный и окончательный).\n",
    "* Кейсы с последним замером температуры после окончания нагревания дугой.\n",
    "\n",
    "**Модель построена на основе данных о партиях на производстве*:**\n",
    "\n",
    "* 'start_temp' - первичное измерение температуры\n",
    "* 'full_time' - сколько прошло от начала первого нагревания дугой до окончания последнего\n",
    "* 'count' - количество нагреваний дугой\n",
    "* 'sum_arc_heating_seconds' - суммарное время нагрева дугой\n",
    "* 'mean_reactive_power' - средняя реактивная мощность в процессе нагревания(в партии)\n",
    "* 'ratio_active_to_reactive' - средняя соотношение активной и реактивной мощности в процессе нагревания (в партии)\n",
    "* информация об объеме различных добавлений в процессе легиризации ('bulk 1','bulk 2', 'bulk 3', 'bulk 4', 'bulk 5', 'bulk 6', 'bulk 7', 'bulk 9','bulk 10', 'bulk 11', 'bulk 12', 'bulk 14', 'bulk 15', 'wire 1','wire 2', 'wire 3', 'wire 4', 'wire 6', 'wire 7', 'wire 8', 'wire 9')\n",
    "* информация об объеме газа использующегося в процессе ('gaz')\n",
    "\n",
    "***Целевой признак - Финальная температура(end_temp)***\n",
    "\n",
    "**Модель построена с помощью CatBoostRegressor(random_state = 123):**"
   ]
  },
  {
   "cell_type": "code",
   "execution_count": null,
   "metadata": {
    "pycharm": {
     "name": "#%%\n"
    }
   },
   "outputs": [],
   "source": []
  }
 ],
 "metadata": {
  "kernelspec": {
   "display_name": "Python 3 (ipykernel)",
   "language": "python",
   "name": "python3"
  },
  "language_info": {
   "codemirror_mode": {
    "name": "ipython",
    "version": 3
   },
   "file_extension": ".py",
   "mimetype": "text/x-python",
   "name": "python",
   "nbconvert_exporter": "python",
   "pygments_lexer": "ipython3",
   "version": "3.11.5"
  },
  "toc": {
   "base_numbering": 1,
   "nav_menu": {
    "height": "171px",
    "width": "242px"
   },
   "number_sections": true,
   "sideBar": true,
   "skip_h1_title": false,
   "title_cell": "Table of Contents",
   "title_sidebar": "Contents",
   "toc_cell": false,
   "toc_position": {},
   "toc_section_display": true,
   "toc_window_display": false
  }
 },
 "nbformat": 4,
 "nbformat_minor": 2
}